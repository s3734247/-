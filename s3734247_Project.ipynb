{
 "cells": [
  {
   "cell_type": "markdown",
   "metadata": {},
   "source": [
    ""
   ]
  },
  {
   "cell_type": "markdown",
   "metadata": {},
   "source": [
    "(1) I hereby agree to follow any and all assignment rules and procedures as stated in Canvas for this course, MATH2319."
   ]
  },
  {
   "cell_type": "markdown",
   "metadata": {},
   "source": [
    "(2) In particular, I solemnly swear that I will not discuss/ have not discussed my assignment solutions with anyone in any way and the solutions I am submitting are my own personal work."
   ]
  },
  {
   "cell_type": "markdown",
   "metadata": {},
   "source": [
    "Full Name: QI SHEN"
   ]
  },
  {
   "cell_type": "markdown",
   "metadata": {},
   "source": [
    "<font size=\"6\" color='black'>Predicting the likelihood of whether the client will subscribe to a term deposit.</font>"
   ]
  },
  {
   "cell_type": "markdown",
   "metadata": {},
   "source": [
    "The objective of this course project to fit and compare three different binary classifiers to predict whether a client will subscribe to a term deposit or not using the Bank Marketing Data Set(from May 2008 to November 2010). The dataset was sourced from the UCI Machine Learning Repository at https://archive.ics.uci.edu/ml/datasets/Bank+Marketing (Moro et al., 2014]). The descriptive features include 10 nominal categorical and 10 numeric features. The target feature is \"y\" which has two classes defined as \"no\" and \"yes\" respectively. The full dataset contains about 4119 observations."
   ]
  },
  {
   "cell_type": "markdown",
   "metadata": {},
   "source": [
    "This report is organized as follows:\n",
    "\n",
    "- [Section 2 (Overview)](#2) \n",
    "- [Section 3 (Data Preparation)](#3) \n",
    "- [Section 4 (Data Exploration)](#4)\n",
    "- [Section 5 (Predictive modelling)](#5) \n",
    "- [Section 6 (Performance Comparison)](#6) \n",
    "- [Section 7 (Limitations)](#7) \n",
    "- [Section 8 (Summary)](#8)"
   ]
  },
  {
   "cell_type": "markdown",
   "metadata": {},
   "source": [
    "<font size=\"6\" color='black'>Overview</font> <a id=\"2\"></a> "
   ]
  },
  {
   "cell_type": "markdown",
   "metadata": {},
   "source": [
    "<font size=\"5\" color='black'>Data Source</font>"
   ]
  },
  {
   "cell_type": "markdown",
   "metadata": {},
   "source": [
    "The UCI Machine Learning Repository provides four datasets, but only bank-additional.csv is useful in this project. The bank-additional.csv and bank-additional-names.txt are the dataset and data set description respectively. The bank-additional-names.txt file contains the details of the variables (a.k.a. features or attributes). The dataset has 4119 observations. The target value is \"y\" features."
   ]
  },
  {
   "cell_type": "markdown",
   "metadata": {},
   "source": [
    "<font size=\"5\" color='black'>Project Objective</font>"
   ]
  },
  {
   "cell_type": "markdown",
   "metadata": {},
   "source": [
    "The project goal is to predict if the client will subscribe (yes/no) a term deposit (variable y) within an acceptable margin of error using categorical response with just main effects."
   ]
  },
  {
   "cell_type": "markdown",
   "metadata": {},
   "source": [
    "<font size=\"5\" color='black'>Target Feature</font>"
   ]
  },
  {
   "cell_type": "markdown",
   "metadata": {},
   "source": [
    "Our target feature is y, which is a categorical feature. Hence, our project is on a classification problem."
   ]
  },
  {
   "cell_type": "markdown",
   "metadata": {},
   "source": [
    "<font size=\"5\" color='black'>Descriptive Features</font>"
   ]
  },
  {
   "cell_type": "markdown",
   "metadata": {},
   "source": [
    "Let ’s briefly introduce these features:"
   ]
  },
  {
   "cell_type": "markdown",
   "metadata": {},
   "source": [
    "<ol>\n",
    "    <li>age (numeric) : Client age</li>\n",
    "    <li>job (categorical) : type of work,possible values are 'retired','admin','management','blue-collar','housemaid','entrepreneur','unemployed','self-employed','technician','services','student' and 'unknown'.</li>\n",
    "    <li>marital (categorical) : marital status,possible values are \"single\",\"divorced\",\"married\" and \"unknown\". </li>\n",
    "    <li>education (categorical) : \n",
    "Education level of the client, possible values are \"university.degree\", \"basic.4y\", \"professional.course\", \"basic.6y\", \"illiterate\", \"basic.9y\", \"high.school\" and \"unknown\".  </li>\n",
    "    <li>default (categorical) : has credit in default? Possible values are \"yes\",\"no\" and \"unknown\".</li>\n",
    "    <li>housing (categorical) : has housing loan? Possible values are \"yes\",\"no\" and \"unknown\". </li>\n",
    "    <li>loan (categorical) : has personal loan? Possible values are \"yes\",\"no\" and \"unknown\". </li>\n",
    "    <li>contact (categorical) : type of contact communication, possible values are \"telephone\" and \"cellular\".</li>\n",
    "    <li>month (categorical) : last contact month of year, possible values are \"jan\", \"feb\", \"mar\", ..., \"nov\" and \"dec\". </li>\n",
    "    <li>day_of_week (categorical) : last contact day of the week, possible values are \"mon\",\"tue\",\"wed\",\"thu\" and \"fri\". </li>\n",
    "    <li>duration (numeric) : last contact duration, in seconds.</li>\n",
    "    <li>campaign (numeric) : number of contacts performed between campaign and client</li>\n",
    "    <li>pdays (numeric): number of days that passed by after the client was last contacted from a previous campaign. Note: 999 means client was not previously contacted. </li>\n",
    "    <li>previous (numeric) : number of contacts performed before this campaign and for this client</li>\n",
    "    <li>poutcome (categorical) : outcome of the previous marketing campaign, possible values are \"success\", \"failure\" and \"nonexistent\"</li>\n",
    "    <li>emp.var.rate (numeric) : employment variation rate(quarterly indicator)</li>\n",
    "    <li>cons.price.idx (numeric) : consumer price index(monthly indicator) </li>\n",
    "    <li>cons.conf.idx (numeric) : consumer confidence index(monthly indicator) </li>\n",
    "    <li>euribor3m (numeric) : euribor 3 month rate(daily indicator)</li>\n",
    "    <li>nr.employed (numeric) : number of employees(quarterly indicator)</li>\n",
    "    <li>y (binary): target value, has the client subscribed a term deposit? Possible values are \"yes\" and \"no\".</li>\n",
    "</ol>"
   ]
  },
  {
   "cell_type": "markdown",
   "metadata": {},
   "source": [
    "<font size=\"6\" color='black'>Data Preparation</font><a id=\"3\"></a> "
   ]
  },
  {
   "cell_type": "markdown",
   "metadata": {},
   "source": [
    "<font size=\"5\" color='black'>Preliminaries</font>"
   ]
  },
  {
   "cell_type": "markdown",
   "metadata": {},
   "source": [
    "First, let's import all the common modules we will be using."
   ]
  },
  {
   "cell_type": "code",
   "execution_count": 1,
   "metadata": {},
   "outputs": [],
   "source": [
    "import numpy as np\n",
    "import pandas as pd\n",
    "import matplotlib.pyplot as plt\n",
    "import seaborn as sns\n",
    "import statsmodels.api as sm\n",
    "import statsmodels.formula.api as smf\n",
    "import patsy\n",
    "import warnings\n",
    "from sklearn import preprocessing\n",
    "from sklearn.ensemble import RandomForestClassifier\n",
    "from sklearn.model_selection import train_test_split\n",
    "from sklearn.model_selection import StratifiedKFold, GridSearchCV\n",
    "from sklearn.base import BaseEstimator, TransformerMixin\n",
    "from sklearn.pipeline import Pipeline\n",
    "from sklearn.neighbors import KNeighborsClassifier\n",
    "from sklearn.preprocessing import PowerTransformer\n",
    "from sklearn.naive_bayes import GaussianNB\n",
    "from sklearn.model_selection import RandomizedSearchCV\n",
    "from sklearn.tree import DecisionTreeClassifier\n",
    "from sklearn.model_selection import cross_val_score\n",
    "from sklearn import metrics\n",
    "from scipy import stats\n",
    "import altair as alt\n",
    "###\n",
    "warnings.filterwarnings('ignore')\n",
    "###\n",
    "pd.set_option('display.max_columns', None) \n",
    "%matplotlib inline \n",
    "%config InlineBackend.figure_format = 'retina'\n",
    "plt.style.use(\"ggplot\")"
   ]
  },
  {
   "cell_type": "markdown",
   "metadata": {},
   "source": [
    "We read the dataset directly from the localhost. We observe that the \"unknown\" character denotes missing values. Thus, we set this to a missing value while reading in the dataset."
   ]
  },
  {
   "cell_type": "code",
   "execution_count": 2,
   "metadata": {},
   "outputs": [],
   "source": [
    "bank = pd.read_csv(\"s3734247_Data.csv\", sep=',', decimal='.', header = 0, na_values=['unknown'])"
   ]
  },
  {
   "cell_type": "markdown",
   "metadata": {},
   "source": [
    "Display randomly selected 10 rows with random state 999."
   ]
  },
  {
   "cell_type": "code",
   "execution_count": 3,
   "metadata": {},
   "outputs": [
    {
     "data": {
      "text/html": [
       "<div>\n",
       "<style scoped>\n",
       "    .dataframe tbody tr th:only-of-type {\n",
       "        vertical-align: middle;\n",
       "    }\n",
       "\n",
       "    .dataframe tbody tr th {\n",
       "        vertical-align: top;\n",
       "    }\n",
       "\n",
       "    .dataframe thead th {\n",
       "        text-align: right;\n",
       "    }\n",
       "</style>\n",
       "<table border=\"1\" class=\"dataframe\">\n",
       "  <thead>\n",
       "    <tr style=\"text-align: right;\">\n",
       "      <th></th>\n",
       "      <th>age</th>\n",
       "      <th>job</th>\n",
       "      <th>marital</th>\n",
       "      <th>education</th>\n",
       "      <th>default</th>\n",
       "      <th>housing</th>\n",
       "      <th>loan</th>\n",
       "      <th>contact</th>\n",
       "      <th>month</th>\n",
       "      <th>day_of_week</th>\n",
       "      <th>duration</th>\n",
       "      <th>campaign</th>\n",
       "      <th>pdays</th>\n",
       "      <th>previous</th>\n",
       "      <th>poutcome</th>\n",
       "      <th>emp.var.rate</th>\n",
       "      <th>cons.price.idx</th>\n",
       "      <th>cons.conf.idx</th>\n",
       "      <th>euribor3m</th>\n",
       "      <th>nr.employed</th>\n",
       "      <th>y</th>\n",
       "    </tr>\n",
       "  </thead>\n",
       "  <tbody>\n",
       "    <tr>\n",
       "      <th>3792</th>\n",
       "      <td>32</td>\n",
       "      <td>technician</td>\n",
       "      <td>single</td>\n",
       "      <td>professional.course</td>\n",
       "      <td>no</td>\n",
       "      <td>yes</td>\n",
       "      <td>no</td>\n",
       "      <td>cellular</td>\n",
       "      <td>may</td>\n",
       "      <td>wed</td>\n",
       "      <td>97</td>\n",
       "      <td>2</td>\n",
       "      <td>999</td>\n",
       "      <td>0</td>\n",
       "      <td>nonexistent</td>\n",
       "      <td>-1.8</td>\n",
       "      <td>92.893</td>\n",
       "      <td>-46.2</td>\n",
       "      <td>1.334</td>\n",
       "      <td>5099.1</td>\n",
       "      <td>no</td>\n",
       "    </tr>\n",
       "    <tr>\n",
       "      <th>2146</th>\n",
       "      <td>37</td>\n",
       "      <td>admin.</td>\n",
       "      <td>married</td>\n",
       "      <td>professional.course</td>\n",
       "      <td>NaN</td>\n",
       "      <td>yes</td>\n",
       "      <td>no</td>\n",
       "      <td>cellular</td>\n",
       "      <td>nov</td>\n",
       "      <td>wed</td>\n",
       "      <td>37</td>\n",
       "      <td>1</td>\n",
       "      <td>999</td>\n",
       "      <td>0</td>\n",
       "      <td>nonexistent</td>\n",
       "      <td>-0.1</td>\n",
       "      <td>93.200</td>\n",
       "      <td>-42.0</td>\n",
       "      <td>4.120</td>\n",
       "      <td>5195.8</td>\n",
       "      <td>no</td>\n",
       "    </tr>\n",
       "    <tr>\n",
       "      <th>1171</th>\n",
       "      <td>38</td>\n",
       "      <td>blue-collar</td>\n",
       "      <td>divorced</td>\n",
       "      <td>NaN</td>\n",
       "      <td>no</td>\n",
       "      <td>no</td>\n",
       "      <td>no</td>\n",
       "      <td>telephone</td>\n",
       "      <td>jun</td>\n",
       "      <td>fri</td>\n",
       "      <td>278</td>\n",
       "      <td>1</td>\n",
       "      <td>999</td>\n",
       "      <td>0</td>\n",
       "      <td>nonexistent</td>\n",
       "      <td>1.4</td>\n",
       "      <td>94.465</td>\n",
       "      <td>-41.8</td>\n",
       "      <td>4.967</td>\n",
       "      <td>5228.1</td>\n",
       "      <td>no</td>\n",
       "    </tr>\n",
       "    <tr>\n",
       "      <th>4033</th>\n",
       "      <td>49</td>\n",
       "      <td>admin.</td>\n",
       "      <td>married</td>\n",
       "      <td>basic.9y</td>\n",
       "      <td>NaN</td>\n",
       "      <td>no</td>\n",
       "      <td>yes</td>\n",
       "      <td>cellular</td>\n",
       "      <td>aug</td>\n",
       "      <td>thu</td>\n",
       "      <td>86</td>\n",
       "      <td>3</td>\n",
       "      <td>999</td>\n",
       "      <td>0</td>\n",
       "      <td>nonexistent</td>\n",
       "      <td>1.4</td>\n",
       "      <td>93.444</td>\n",
       "      <td>-36.1</td>\n",
       "      <td>4.968</td>\n",
       "      <td>5228.1</td>\n",
       "      <td>no</td>\n",
       "    </tr>\n",
       "    <tr>\n",
       "      <th>565</th>\n",
       "      <td>34</td>\n",
       "      <td>blue-collar</td>\n",
       "      <td>married</td>\n",
       "      <td>professional.course</td>\n",
       "      <td>no</td>\n",
       "      <td>yes</td>\n",
       "      <td>no</td>\n",
       "      <td>cellular</td>\n",
       "      <td>nov</td>\n",
       "      <td>tue</td>\n",
       "      <td>135</td>\n",
       "      <td>3</td>\n",
       "      <td>999</td>\n",
       "      <td>0</td>\n",
       "      <td>nonexistent</td>\n",
       "      <td>-0.1</td>\n",
       "      <td>93.200</td>\n",
       "      <td>-42.0</td>\n",
       "      <td>4.153</td>\n",
       "      <td>5195.8</td>\n",
       "      <td>no</td>\n",
       "    </tr>\n",
       "    <tr>\n",
       "      <th>3471</th>\n",
       "      <td>46</td>\n",
       "      <td>management</td>\n",
       "      <td>married</td>\n",
       "      <td>university.degree</td>\n",
       "      <td>no</td>\n",
       "      <td>no</td>\n",
       "      <td>no</td>\n",
       "      <td>telephone</td>\n",
       "      <td>may</td>\n",
       "      <td>mon</td>\n",
       "      <td>103</td>\n",
       "      <td>1</td>\n",
       "      <td>999</td>\n",
       "      <td>0</td>\n",
       "      <td>nonexistent</td>\n",
       "      <td>1.1</td>\n",
       "      <td>93.994</td>\n",
       "      <td>-36.4</td>\n",
       "      <td>4.857</td>\n",
       "      <td>5191.0</td>\n",
       "      <td>no</td>\n",
       "    </tr>\n",
       "    <tr>\n",
       "      <th>2737</th>\n",
       "      <td>59</td>\n",
       "      <td>housemaid</td>\n",
       "      <td>married</td>\n",
       "      <td>basic.4y</td>\n",
       "      <td>NaN</td>\n",
       "      <td>no</td>\n",
       "      <td>no</td>\n",
       "      <td>cellular</td>\n",
       "      <td>aug</td>\n",
       "      <td>tue</td>\n",
       "      <td>77</td>\n",
       "      <td>6</td>\n",
       "      <td>999</td>\n",
       "      <td>0</td>\n",
       "      <td>nonexistent</td>\n",
       "      <td>1.4</td>\n",
       "      <td>93.444</td>\n",
       "      <td>-36.1</td>\n",
       "      <td>4.965</td>\n",
       "      <td>5228.1</td>\n",
       "      <td>no</td>\n",
       "    </tr>\n",
       "    <tr>\n",
       "      <th>4089</th>\n",
       "      <td>25</td>\n",
       "      <td>admin.</td>\n",
       "      <td>single</td>\n",
       "      <td>university.degree</td>\n",
       "      <td>no</td>\n",
       "      <td>yes</td>\n",
       "      <td>yes</td>\n",
       "      <td>cellular</td>\n",
       "      <td>oct</td>\n",
       "      <td>fri</td>\n",
       "      <td>115</td>\n",
       "      <td>1</td>\n",
       "      <td>999</td>\n",
       "      <td>1</td>\n",
       "      <td>failure</td>\n",
       "      <td>-3.4</td>\n",
       "      <td>92.431</td>\n",
       "      <td>-26.9</td>\n",
       "      <td>0.739</td>\n",
       "      <td>5017.5</td>\n",
       "      <td>yes</td>\n",
       "    </tr>\n",
       "    <tr>\n",
       "      <th>749</th>\n",
       "      <td>36</td>\n",
       "      <td>technician</td>\n",
       "      <td>single</td>\n",
       "      <td>high.school</td>\n",
       "      <td>no</td>\n",
       "      <td>yes</td>\n",
       "      <td>no</td>\n",
       "      <td>cellular</td>\n",
       "      <td>jul</td>\n",
       "      <td>wed</td>\n",
       "      <td>243</td>\n",
       "      <td>1</td>\n",
       "      <td>999</td>\n",
       "      <td>1</td>\n",
       "      <td>failure</td>\n",
       "      <td>-2.9</td>\n",
       "      <td>92.469</td>\n",
       "      <td>-33.6</td>\n",
       "      <td>1.029</td>\n",
       "      <td>5076.2</td>\n",
       "      <td>no</td>\n",
       "    </tr>\n",
       "    <tr>\n",
       "      <th>1150</th>\n",
       "      <td>41</td>\n",
       "      <td>entrepreneur</td>\n",
       "      <td>married</td>\n",
       "      <td>basic.4y</td>\n",
       "      <td>no</td>\n",
       "      <td>yes</td>\n",
       "      <td>no</td>\n",
       "      <td>telephone</td>\n",
       "      <td>jul</td>\n",
       "      <td>fri</td>\n",
       "      <td>89</td>\n",
       "      <td>2</td>\n",
       "      <td>999</td>\n",
       "      <td>0</td>\n",
       "      <td>nonexistent</td>\n",
       "      <td>1.4</td>\n",
       "      <td>93.918</td>\n",
       "      <td>-42.7</td>\n",
       "      <td>4.959</td>\n",
       "      <td>5228.1</td>\n",
       "      <td>no</td>\n",
       "    </tr>\n",
       "  </tbody>\n",
       "</table>\n",
       "</div>"
      ],
      "text/plain": [
       "      age           job   marital            education default housing loan  \\\n",
       "3792   32    technician    single  professional.course      no     yes   no   \n",
       "2146   37        admin.   married  professional.course     NaN     yes   no   \n",
       "1171   38   blue-collar  divorced                  NaN      no      no   no   \n",
       "4033   49        admin.   married             basic.9y     NaN      no  yes   \n",
       "565    34   blue-collar   married  professional.course      no     yes   no   \n",
       "3471   46    management   married    university.degree      no      no   no   \n",
       "2737   59     housemaid   married             basic.4y     NaN      no   no   \n",
       "4089   25        admin.    single    university.degree      no     yes  yes   \n",
       "749    36    technician    single          high.school      no     yes   no   \n",
       "1150   41  entrepreneur   married             basic.4y      no     yes   no   \n",
       "\n",
       "        contact month day_of_week  duration  campaign  pdays  previous  \\\n",
       "3792   cellular   may         wed        97         2    999         0   \n",
       "2146   cellular   nov         wed        37         1    999         0   \n",
       "1171  telephone   jun         fri       278         1    999         0   \n",
       "4033   cellular   aug         thu        86         3    999         0   \n",
       "565    cellular   nov         tue       135         3    999         0   \n",
       "3471  telephone   may         mon       103         1    999         0   \n",
       "2737   cellular   aug         tue        77         6    999         0   \n",
       "4089   cellular   oct         fri       115         1    999         1   \n",
       "749    cellular   jul         wed       243         1    999         1   \n",
       "1150  telephone   jul         fri        89         2    999         0   \n",
       "\n",
       "         poutcome  emp.var.rate  cons.price.idx  cons.conf.idx  euribor3m  \\\n",
       "3792  nonexistent          -1.8          92.893          -46.2      1.334   \n",
       "2146  nonexistent          -0.1          93.200          -42.0      4.120   \n",
       "1171  nonexistent           1.4          94.465          -41.8      4.967   \n",
       "4033  nonexistent           1.4          93.444          -36.1      4.968   \n",
       "565   nonexistent          -0.1          93.200          -42.0      4.153   \n",
       "3471  nonexistent           1.1          93.994          -36.4      4.857   \n",
       "2737  nonexistent           1.4          93.444          -36.1      4.965   \n",
       "4089      failure          -3.4          92.431          -26.9      0.739   \n",
       "749       failure          -2.9          92.469          -33.6      1.029   \n",
       "1150  nonexistent           1.4          93.918          -42.7      4.959   \n",
       "\n",
       "      nr.employed    y  \n",
       "3792       5099.1   no  \n",
       "2146       5195.8   no  \n",
       "1171       5228.1   no  \n",
       "4033       5228.1   no  \n",
       "565        5195.8   no  \n",
       "3471       5191.0   no  \n",
       "2737       5228.1   no  \n",
       "4089       5017.5  yes  \n",
       "749        5076.2   no  \n",
       "1150       5228.1   no  "
      ]
     },
     "execution_count": 3,
     "metadata": {},
     "output_type": "execute_result"
    }
   ],
   "source": [
    "bank.sample(n=10, random_state=999) "
   ]
  },
  {
   "cell_type": "markdown",
   "metadata": {},
   "source": [
    "<font size=\"5\" color='black'>Data Cleaning and Transformation</font>"
   ]
  },
  {
   "cell_type": "markdown",
   "metadata": {},
   "source": [
    "We first confirm that the feature types match the descriptions outlined in the bank-additional-names.txt."
   ]
  },
  {
   "cell_type": "raw",
   "metadata": {},
   "source": [
    "print(f\"Shape of the dataset is {bank.shape} \\n\")\n",
    "print(f\"Data types are below where 'object' indicates a string type: \")\n",
    "print(bank.dtypes)"
   ]
  },
  {
   "cell_type": "markdown",
   "metadata": {},
   "source": [
    "<font size=\"4\" color='black'>Eliminating Redundant Features</font>"
   ]
  },
  {
   "cell_type": "markdown",
   "metadata": {},
   "source": [
    "We observe that this dataset does not contain any one of the following:"
   ]
  },
  {
   "cell_type": "markdown",
   "metadata": {},
   "source": [
    "<ol>\n",
    "    <li>ID-Like columns</li>\n",
    "   <li>Constant features</li>\n",
    "     <li>Date or time features</li>\n",
    "</ol>"
   ]
  },
  {
   "cell_type": "markdown",
   "metadata": {},
   "source": [
    "However, we notice that columns \"emp.var.rate\", \"cons.price.idx\", \"cons.conf.idx\", \"euribor3m\" and \"nr.employed\" are the social and economic context attributes. They have no predictive power for our prediction, we will drop these features."
   ]
  },
  {
   "cell_type": "code",
   "execution_count": 4,
   "metadata": {},
   "outputs": [],
   "source": [
    "bank = bank.drop(columns = [\"emp.var.rate\", \"cons.price.idx\", \"cons.conf.idx\", \"euribor3m\", \"nr.employed\"])"
   ]
  },
  {
   "cell_type": "markdown",
   "metadata": {},
   "source": [
    "Let's get a description of numerical and categorical columns respectively."
   ]
  },
  {
   "cell_type": "code",
   "execution_count": 5,
   "metadata": {},
   "outputs": [
    {
     "data": {
      "text/html": [
       "<div>\n",
       "<style scoped>\n",
       "    .dataframe tbody tr th:only-of-type {\n",
       "        vertical-align: middle;\n",
       "    }\n",
       "\n",
       "    .dataframe tbody tr th {\n",
       "        vertical-align: top;\n",
       "    }\n",
       "\n",
       "    .dataframe thead th {\n",
       "        text-align: right;\n",
       "    }\n",
       "</style>\n",
       "<table border=\"1\" class=\"dataframe\">\n",
       "  <thead>\n",
       "    <tr style=\"text-align: right;\">\n",
       "      <th></th>\n",
       "      <th>age</th>\n",
       "      <th>duration</th>\n",
       "      <th>campaign</th>\n",
       "      <th>pdays</th>\n",
       "      <th>previous</th>\n",
       "    </tr>\n",
       "  </thead>\n",
       "  <tbody>\n",
       "    <tr>\n",
       "      <th>count</th>\n",
       "      <td>4119.000</td>\n",
       "      <td>4119.000</td>\n",
       "      <td>4119.000</td>\n",
       "      <td>4119.000</td>\n",
       "      <td>4119.000</td>\n",
       "    </tr>\n",
       "    <tr>\n",
       "      <th>mean</th>\n",
       "      <td>40.114</td>\n",
       "      <td>256.788</td>\n",
       "      <td>2.537</td>\n",
       "      <td>960.422</td>\n",
       "      <td>0.190</td>\n",
       "    </tr>\n",
       "    <tr>\n",
       "      <th>std</th>\n",
       "      <td>10.313</td>\n",
       "      <td>254.704</td>\n",
       "      <td>2.568</td>\n",
       "      <td>191.923</td>\n",
       "      <td>0.542</td>\n",
       "    </tr>\n",
       "    <tr>\n",
       "      <th>min</th>\n",
       "      <td>18.000</td>\n",
       "      <td>0.000</td>\n",
       "      <td>1.000</td>\n",
       "      <td>0.000</td>\n",
       "      <td>0.000</td>\n",
       "    </tr>\n",
       "    <tr>\n",
       "      <th>25%</th>\n",
       "      <td>32.000</td>\n",
       "      <td>103.000</td>\n",
       "      <td>1.000</td>\n",
       "      <td>999.000</td>\n",
       "      <td>0.000</td>\n",
       "    </tr>\n",
       "    <tr>\n",
       "      <th>50%</th>\n",
       "      <td>38.000</td>\n",
       "      <td>181.000</td>\n",
       "      <td>2.000</td>\n",
       "      <td>999.000</td>\n",
       "      <td>0.000</td>\n",
       "    </tr>\n",
       "    <tr>\n",
       "      <th>75%</th>\n",
       "      <td>47.000</td>\n",
       "      <td>317.000</td>\n",
       "      <td>3.000</td>\n",
       "      <td>999.000</td>\n",
       "      <td>0.000</td>\n",
       "    </tr>\n",
       "    <tr>\n",
       "      <th>max</th>\n",
       "      <td>88.000</td>\n",
       "      <td>3643.000</td>\n",
       "      <td>35.000</td>\n",
       "      <td>999.000</td>\n",
       "      <td>6.000</td>\n",
       "    </tr>\n",
       "  </tbody>\n",
       "</table>\n",
       "</div>"
      ],
      "text/plain": [
       "            age  duration  campaign     pdays  previous\n",
       "count  4119.000  4119.000  4119.000  4119.000  4119.000\n",
       "mean     40.114   256.788     2.537   960.422     0.190\n",
       "std      10.313   254.704     2.568   191.923     0.542\n",
       "min      18.000     0.000     1.000     0.000     0.000\n",
       "25%      32.000   103.000     1.000   999.000     0.000\n",
       "50%      38.000   181.000     2.000   999.000     0.000\n",
       "75%      47.000   317.000     3.000   999.000     0.000\n",
       "max      88.000  3643.000    35.000   999.000     6.000"
      ]
     },
     "execution_count": 5,
     "metadata": {},
     "output_type": "execute_result"
    }
   ],
   "source": [
    "bank.describe(include=np.number).round(3)"
   ]
  },
  {
   "cell_type": "code",
   "execution_count": 6,
   "metadata": {},
   "outputs": [
    {
     "data": {
      "text/html": [
       "<div>\n",
       "<style scoped>\n",
       "    .dataframe tbody tr th:only-of-type {\n",
       "        vertical-align: middle;\n",
       "    }\n",
       "\n",
       "    .dataframe tbody tr th {\n",
       "        vertical-align: top;\n",
       "    }\n",
       "\n",
       "    .dataframe thead th {\n",
       "        text-align: right;\n",
       "    }\n",
       "</style>\n",
       "<table border=\"1\" class=\"dataframe\">\n",
       "  <thead>\n",
       "    <tr style=\"text-align: right;\">\n",
       "      <th></th>\n",
       "      <th>job</th>\n",
       "      <th>marital</th>\n",
       "      <th>education</th>\n",
       "      <th>default</th>\n",
       "      <th>housing</th>\n",
       "      <th>loan</th>\n",
       "      <th>contact</th>\n",
       "      <th>month</th>\n",
       "      <th>day_of_week</th>\n",
       "      <th>poutcome</th>\n",
       "      <th>y</th>\n",
       "    </tr>\n",
       "  </thead>\n",
       "  <tbody>\n",
       "    <tr>\n",
       "      <th>count</th>\n",
       "      <td>4080</td>\n",
       "      <td>4108</td>\n",
       "      <td>3952</td>\n",
       "      <td>3316</td>\n",
       "      <td>4014</td>\n",
       "      <td>4014</td>\n",
       "      <td>4119</td>\n",
       "      <td>4119</td>\n",
       "      <td>4119</td>\n",
       "      <td>4119</td>\n",
       "      <td>4119</td>\n",
       "    </tr>\n",
       "    <tr>\n",
       "      <th>unique</th>\n",
       "      <td>11</td>\n",
       "      <td>3</td>\n",
       "      <td>7</td>\n",
       "      <td>2</td>\n",
       "      <td>2</td>\n",
       "      <td>2</td>\n",
       "      <td>2</td>\n",
       "      <td>10</td>\n",
       "      <td>5</td>\n",
       "      <td>3</td>\n",
       "      <td>2</td>\n",
       "    </tr>\n",
       "    <tr>\n",
       "      <th>top</th>\n",
       "      <td>admin.</td>\n",
       "      <td>married</td>\n",
       "      <td>university.degree</td>\n",
       "      <td>no</td>\n",
       "      <td>yes</td>\n",
       "      <td>no</td>\n",
       "      <td>cellular</td>\n",
       "      <td>may</td>\n",
       "      <td>thu</td>\n",
       "      <td>nonexistent</td>\n",
       "      <td>no</td>\n",
       "    </tr>\n",
       "    <tr>\n",
       "      <th>freq</th>\n",
       "      <td>1012</td>\n",
       "      <td>2509</td>\n",
       "      <td>1264</td>\n",
       "      <td>3315</td>\n",
       "      <td>2175</td>\n",
       "      <td>3349</td>\n",
       "      <td>2652</td>\n",
       "      <td>1378</td>\n",
       "      <td>860</td>\n",
       "      <td>3523</td>\n",
       "      <td>3668</td>\n",
       "    </tr>\n",
       "  </tbody>\n",
       "</table>\n",
       "</div>"
      ],
      "text/plain": [
       "           job  marital          education default housing  loan   contact  \\\n",
       "count     4080     4108               3952    3316    4014  4014      4119   \n",
       "unique      11        3                  7       2       2     2         2   \n",
       "top     admin.  married  university.degree      no     yes    no  cellular   \n",
       "freq      1012     2509               1264    3315    2175  3349      2652   \n",
       "\n",
       "       month day_of_week     poutcome     y  \n",
       "count   4119        4119         4119  4119  \n",
       "unique    10           5            3     2  \n",
       "top      may         thu  nonexistent    no  \n",
       "freq    1378         860         3523  3668  "
      ]
     },
     "execution_count": 6,
     "metadata": {},
     "output_type": "execute_result"
    }
   ],
   "source": [
    "bank.describe(include=np.object)"
   ]
  },
  {
   "cell_type": "markdown",
   "metadata": {},
   "source": [
    "<font size=\"4\" color='black'>Imputing Missing Values</font>"
   ]
  },
  {
   "cell_type": "code",
   "execution_count": 7,
   "metadata": {},
   "outputs": [
    {
     "name": "stdout",
     "output_type": "stream",
     "text": [
      "\n",
      "Number of missing values for each feature:\n",
      "age              0\n",
      "job             39\n",
      "marital         11\n",
      "education      167\n",
      "default        803\n",
      "housing        105\n",
      "loan           105\n",
      "contact          0\n",
      "month            0\n",
      "day_of_week      0\n",
      "duration         0\n",
      "campaign         0\n",
      "pdays            0\n",
      "previous         0\n",
      "poutcome         0\n",
      "y                0\n",
      "dtype: int64\n"
     ]
    }
   ],
   "source": [
    "print(f\"\\nNumber of missing values for each feature:\")\n",
    "print(bank.isnull().sum())"
   ]
  },
  {
   "cell_type": "markdown",
   "metadata": {},
   "source": [
    "Let's impute any missing values with the mode for categorical features and with the median for numerical features."
   ]
  },
  {
   "cell_type": "code",
   "execution_count": 8,
   "metadata": {},
   "outputs": [
    {
     "name": "stdout",
     "output_type": "stream",
     "text": [
      "Categorical Column job: Mode = admin.\n",
      "Categorical Column marital: Mode = married\n",
      "Categorical Column education: Mode = university.degree\n",
      "Categorical Column default: Mode = no\n",
      "Categorical Column housing: Mode = yes\n",
      "Categorical Column loan: Mode = no\n",
      "Categorical Column contact: Mode = cellular\n",
      "Categorical Column month: Mode = may\n",
      "Categorical Column day_of_week: Mode = thu\n",
      "Categorical Column poutcome: Mode = nonexistent\n",
      "Categorical Column y: Mode = no\n",
      "Numerical Column age: Median = 38.0\n",
      "Numerical Column duration: Median = 181.0\n",
      "Numerical Column campaign: Median = 2.0\n",
      "Numerical Column pdays: Median = 999.0\n",
      "Numerical Column previous: Median = 0.0\n"
     ]
    }
   ],
   "source": [
    "bank_imputed = bank.copy()\n",
    "\n",
    "cat_cols = bank_imputed.columns[bank_imputed.dtypes==object].tolist()\n",
    "num_cols = bank_imputed.columns[bank_imputed.dtypes !=object].tolist()\n",
    "# mode for categorical features\n",
    "for cat_col in cat_cols:\n",
    "    mode = bank_imputed[cat_col].mode()[0]\n",
    "    print('Categorical Column ' + cat_col + ': Mode = ' + mode)\n",
    "    bank_imputed[cat_col] = bank_imputed[cat_col].fillna(mode)\n",
    "\n",
    "# median for numerical features\n",
    "for num_col in num_cols:\n",
    "    median = np.round(bank_imputed[num_col].median(), 3)\n",
    "    print('Numerical Column ' + num_col + ': Median = ' + str(median))\n",
    "    bank_imputed[num_col] = bank_imputed[num_col].fillna(median)\n",
    " "
   ]
  },
  {
   "cell_type": "markdown",
   "metadata": {},
   "source": [
    "<font size=\"4\" color='black'>Discretizing Numeric Feature \"pdays\"</font>"
   ]
  },
  {
   "cell_type": "markdown",
   "metadata": {},
   "source": [
    "For the \"pdays\" numerical descriptive feature, we are to discretize it via different periods with 6 groups named as \"no_contacted \",\"0_5\",\"6_10\",\"11_15\",\"16_20\" and \"21_25\". "
   ]
  },
  {
   "cell_type": "code",
   "execution_count": 9,
   "metadata": {},
   "outputs": [],
   "source": [
    "bank_imputed['pdays_group'] = ''\n",
    "bank_imputed.loc[ (bank_imputed['pdays'] >= 0 ) &(bank_imputed['pdays'] <= 5),'pdays_group'] = '0_5'\n",
    "bank_imputed.loc[ (bank_imputed['pdays'] >= 6 ) &(bank_imputed['pdays'] <= 10),'pdays_group'] = '6_10'\n",
    "bank_imputed.loc[ (bank_imputed['pdays'] >= 11 ) &(bank_imputed['pdays'] <= 15),'pdays_group'] = '11_15'\n",
    "bank_imputed.loc[ (bank_imputed['pdays'] >= 16 ) &(bank_imputed['pdays'] <= 20),'pdays_group'] = '16_20'\n",
    "bank_imputed.loc[ (bank_imputed['pdays'] >= 21 ) &(bank_imputed['pdays'] <= 25),'pdays_group'] = '21_25'\n",
    "bank_imputed.loc[ (bank_imputed['pdays'] == 999 ),'pdays_group'] = 'no_contacted'\n",
    "bank_imputed = bank_imputed.drop(columns = [\"pdays\"])"
   ]
  },
  {
   "cell_type": "code",
   "execution_count": 10,
   "metadata": {},
   "outputs": [
    {
     "data": {
      "text/html": [
       "<div>\n",
       "<style scoped>\n",
       "    .dataframe tbody tr th:only-of-type {\n",
       "        vertical-align: middle;\n",
       "    }\n",
       "\n",
       "    .dataframe tbody tr th {\n",
       "        vertical-align: top;\n",
       "    }\n",
       "\n",
       "    .dataframe thead th {\n",
       "        text-align: right;\n",
       "    }\n",
       "</style>\n",
       "<table border=\"1\" class=\"dataframe\">\n",
       "  <thead>\n",
       "    <tr style=\"text-align: right;\">\n",
       "      <th></th>\n",
       "      <th>age</th>\n",
       "      <th>job</th>\n",
       "      <th>marital</th>\n",
       "      <th>education</th>\n",
       "      <th>default</th>\n",
       "      <th>housing</th>\n",
       "      <th>loan</th>\n",
       "      <th>contact</th>\n",
       "      <th>month</th>\n",
       "      <th>day_of_week</th>\n",
       "      <th>duration</th>\n",
       "      <th>campaign</th>\n",
       "      <th>previous</th>\n",
       "      <th>poutcome</th>\n",
       "      <th>y</th>\n",
       "      <th>pdays_group</th>\n",
       "    </tr>\n",
       "  </thead>\n",
       "  <tbody>\n",
       "    <tr>\n",
       "      <th>3792</th>\n",
       "      <td>32</td>\n",
       "      <td>technician</td>\n",
       "      <td>single</td>\n",
       "      <td>professional.course</td>\n",
       "      <td>no</td>\n",
       "      <td>yes</td>\n",
       "      <td>no</td>\n",
       "      <td>cellular</td>\n",
       "      <td>may</td>\n",
       "      <td>wed</td>\n",
       "      <td>97</td>\n",
       "      <td>2</td>\n",
       "      <td>0</td>\n",
       "      <td>nonexistent</td>\n",
       "      <td>no</td>\n",
       "      <td>no_contacted</td>\n",
       "    </tr>\n",
       "    <tr>\n",
       "      <th>2146</th>\n",
       "      <td>37</td>\n",
       "      <td>admin.</td>\n",
       "      <td>married</td>\n",
       "      <td>professional.course</td>\n",
       "      <td>no</td>\n",
       "      <td>yes</td>\n",
       "      <td>no</td>\n",
       "      <td>cellular</td>\n",
       "      <td>nov</td>\n",
       "      <td>wed</td>\n",
       "      <td>37</td>\n",
       "      <td>1</td>\n",
       "      <td>0</td>\n",
       "      <td>nonexistent</td>\n",
       "      <td>no</td>\n",
       "      <td>no_contacted</td>\n",
       "    </tr>\n",
       "    <tr>\n",
       "      <th>1171</th>\n",
       "      <td>38</td>\n",
       "      <td>blue-collar</td>\n",
       "      <td>divorced</td>\n",
       "      <td>university.degree</td>\n",
       "      <td>no</td>\n",
       "      <td>no</td>\n",
       "      <td>no</td>\n",
       "      <td>telephone</td>\n",
       "      <td>jun</td>\n",
       "      <td>fri</td>\n",
       "      <td>278</td>\n",
       "      <td>1</td>\n",
       "      <td>0</td>\n",
       "      <td>nonexistent</td>\n",
       "      <td>no</td>\n",
       "      <td>no_contacted</td>\n",
       "    </tr>\n",
       "    <tr>\n",
       "      <th>4033</th>\n",
       "      <td>49</td>\n",
       "      <td>admin.</td>\n",
       "      <td>married</td>\n",
       "      <td>basic.9y</td>\n",
       "      <td>no</td>\n",
       "      <td>no</td>\n",
       "      <td>yes</td>\n",
       "      <td>cellular</td>\n",
       "      <td>aug</td>\n",
       "      <td>thu</td>\n",
       "      <td>86</td>\n",
       "      <td>3</td>\n",
       "      <td>0</td>\n",
       "      <td>nonexistent</td>\n",
       "      <td>no</td>\n",
       "      <td>no_contacted</td>\n",
       "    </tr>\n",
       "    <tr>\n",
       "      <th>565</th>\n",
       "      <td>34</td>\n",
       "      <td>blue-collar</td>\n",
       "      <td>married</td>\n",
       "      <td>professional.course</td>\n",
       "      <td>no</td>\n",
       "      <td>yes</td>\n",
       "      <td>no</td>\n",
       "      <td>cellular</td>\n",
       "      <td>nov</td>\n",
       "      <td>tue</td>\n",
       "      <td>135</td>\n",
       "      <td>3</td>\n",
       "      <td>0</td>\n",
       "      <td>nonexistent</td>\n",
       "      <td>no</td>\n",
       "      <td>no_contacted</td>\n",
       "    </tr>\n",
       "  </tbody>\n",
       "</table>\n",
       "</div>"
      ],
      "text/plain": [
       "      age          job   marital            education default housing loan  \\\n",
       "3792   32   technician    single  professional.course      no     yes   no   \n",
       "2146   37       admin.   married  professional.course      no     yes   no   \n",
       "1171   38  blue-collar  divorced    university.degree      no      no   no   \n",
       "4033   49       admin.   married             basic.9y      no      no  yes   \n",
       "565    34  blue-collar   married  professional.course      no     yes   no   \n",
       "\n",
       "        contact month day_of_week  duration  campaign  previous     poutcome  \\\n",
       "3792   cellular   may         wed        97         2         0  nonexistent   \n",
       "2146   cellular   nov         wed        37         1         0  nonexistent   \n",
       "1171  telephone   jun         fri       278         1         0  nonexistent   \n",
       "4033   cellular   aug         thu        86         3         0  nonexistent   \n",
       "565    cellular   nov         tue       135         3         0  nonexistent   \n",
       "\n",
       "       y   pdays_group  \n",
       "3792  no  no_contacted  \n",
       "2146  no  no_contacted  \n",
       "1171  no  no_contacted  \n",
       "4033  no  no_contacted  \n",
       "565   no  no_contacted  "
      ]
     },
     "execution_count": 10,
     "metadata": {},
     "output_type": "execute_result"
    }
   ],
   "source": [
    "bank_imputed.sample(5, random_state=999)"
   ]
  },
  {
   "cell_type": "markdown",
   "metadata": {},
   "source": [
    "<font size=\"4\" color='black'>Detecting outlines </font>"
   ]
  },
  {
   "cell_type": "markdown",
   "metadata": {},
   "source": [
    "For the \"duration\" feature, the max value is 3643.000 which is much greater than the mean value, we will do filtering on this feature by IQR and then impute outliers with the median."
   ]
  },
  {
   "cell_type": "code",
   "execution_count": 11,
   "metadata": {},
   "outputs": [],
   "source": [
    "bank_imputed['duration'] = bank_imputed['duration'][bank_imputed['duration'].between(bank_imputed['duration'].quantile(.25), bank_imputed['duration'].quantile(.75), inclusive=True)]\n",
    "bank_imputed['duration'] = bank_imputed['duration'].fillna(256.788)"
   ]
  },
  {
   "cell_type": "code",
   "execution_count": 12,
   "metadata": {},
   "outputs": [
    {
     "data": {
      "image/png": "[encoded data removed]",
      "text/plain": [
       "<Figure size 432x288 with 1 Axes>"
      ]
     },
     "metadata": {
      "image/png": {
       "height": 248,
       "width": 375
      },
      "needs_background": "light"
     },
     "output_type": "display_data"
    }
   ],
   "source": [
    "boxplot = bank_imputed.boxplot(column=['duration'])"
   ]
  },
  {
   "cell_type": "markdown",
   "metadata": {},
   "source": [
    "<font size=\"6\" color='black'>Data Exploration</font><a id=\"4\"></a> "
   ]
  },
  {
   "cell_type": "markdown",
   "metadata": {},
   "source": [
    "Our dataset can now be considered \"clean\" and ready for visualisation and statistical modelling."
   ]
  },
  {
   "cell_type": "markdown",
   "metadata": {},
   "source": [
    "<font size=\"5\" color='black'>Univariate Visualisation</font>"
   ]
  },
  {
   "cell_type": "markdown",
   "metadata": {},
   "source": [
    "Let's get a histogram of \"job\" feature"
   ]
  },
  {
   "cell_type": "code",
   "execution_count": 13,
   "metadata": {},
   "outputs": [
    {
     "data": {
      "image/png": "[encoded data removed]",
      "text/plain": [
       "<Figure size 432x288 with 1 Axes>"
      ]
     },
     "metadata": {
      "image/png": {
       "height": 301,
       "width": 423
      },
      "needs_background": "light"
     },
     "output_type": "display_data"
    }
   ],
   "source": [
    "ax = bank_imputed['job'].value_counts().plot(kind = 'bar')\n",
    "ax.set_xticklabels(ax.get_xticklabels(), rotation = 20)\n",
    "plt.tight_layout()\n",
    "plt.title('Figure 1: Bar Chart of job', fontsize = 20)\n",
    "plt.show();"
   ]
  },
  {
   "cell_type": "code",
   "execution_count": 14,
   "metadata": {},
   "outputs": [
    {
     "data": {
      "image/png": "[encoded data removed]",
      "text/plain": [
       "<Figure size 432x288 with 1 Axes>"
      ]
     },
     "metadata": {
      "image/png": {
       "height": 285,
       "width": 378
      },
      "needs_background": "light"
     },
     "output_type": "display_data"
    }
   ],
   "source": [
    "# get a histogram of age with kernel density estimate\n",
    "sns.distplot(bank_imputed['age'], kde = True).set_title('Figure 2: Histogram of Age', fontsize = 20)\n",
    "plt.show();"
   ]
  },
  {
   "cell_type": "markdown",
   "metadata": {},
   "source": [
    "<font size=\"5\" color='black'>Multivariate Visualisation</font>"
   ]
  },
  {
   "cell_type": "markdown",
   "metadata": {},
   "source": [
    "<font size=\"4\" color='black'>Two-variable plots</font>"
   ]
  },
  {
   "cell_type": "code",
   "execution_count": 15,
   "metadata": {},
   "outputs": [
    {
     "data": {
      "image/png": "[encoded data removed]",
      "text/plain": [
       "<Figure size 432x288 with 1 Axes>"
      ]
     },
     "metadata": {
      "image/png": {
       "height": 285,
       "width": 574
      },
      "needs_background": "light"
     },
     "output_type": "display_data"
    }
   ],
   "source": [
    "hpw = bank_imputed['age']\n",
    "plt.scatter(hpw, bank_imputed['campaign'], alpha = 0.2)\n",
    "plt.title('Figure 3: Scatterplot of age and the number of contacts', fontsize = 20)\n",
    "plt.xlabel('age')\n",
    "plt.ylabel('campaign')\n",
    "plt.show();"
   ]
  },
  {
   "cell_type": "markdown",
   "metadata": {},
   "source": [
    "According to the plot, as the age of the client increases, the number of contacts performed between this campaign and the client will decrease."
   ]
  },
  {
   "cell_type": "code",
   "execution_count": 16,
   "metadata": {
    "scrolled": false
   },
   "outputs": [
    {
     "data": {
      "image/png": "[encoded data removed]",
      "text/plain": [
       "<Figure size 432x288 with 1 Axes>"
      ]
     },
     "metadata": {
      "image/png": {
       "height": 285,
       "width": 392
      },
      "needs_background": "light"
     },
     "output_type": "display_data"
    }
   ],
   "source": [
    "sns.boxplot(bank_imputed['marital'], bank_imputed['age']);\n",
    "plt.title('Figure 4: Boxplot of age by marital', fontsize = 20)\n",
    "plt.show();"
   ]
  },
  {
   "cell_type": "markdown",
   "metadata": {},
   "source": [
    "According to the plot, we can find an interesting phenomenon. The divorced median is greater than married median and the married median is greater than the single median."
   ]
  },
  {
   "cell_type": "markdown",
   "metadata": {},
   "source": [
    "<font size=\"4\" color='black'>Three-variable plots</font>"
   ]
  },
  {
   "cell_type": "code",
   "execution_count": 17,
   "metadata": {},
   "outputs": [
    {
     "data": {
      "image/png": "[encoded data removed]",
      "text/plain": [
       "<Figure size 413.25x360 with 1 Axes>"
      ]
     },
     "metadata": {
      "image/png": {
       "height": 368,
       "width": 1001
      },
      "needs_background": "light"
     },
     "output_type": "display_data"
    }
   ],
   "source": [
    "sns.catplot(x=\"contact\", y=\"campaign\", hue=\"y\", kind=\"bar\", data=bank_imputed);\n",
    "plt.title('Figure 5: Boxplot of the number of contacts performed  down by contact communication type and client subscribed a term deposit', fontsize = 15)\n",
    "plt.show();"
   ]
  },
  {
   "cell_type": "markdown",
   "metadata": {},
   "source": [
    "From Figure 5, we see that bank manager use telephone connect with the client have a higher probability for client subscribed a term deposit."
   ]
  },
  {
   "cell_type": "code",
   "execution_count": 18,
   "metadata": {},
   "outputs": [
    {
     "data": {
      "image/png": "[encoded data removed]",
      "text/plain": [
       "<Figure size 432x288 with 1 Axes>"
      ]
     },
     "metadata": {
      "image/png": {
       "height": 281,
       "width": 658
      },
      "needs_background": "light"
     },
     "output_type": "display_data"
    }
   ],
   "source": [
    "sns.scatterplot(bank_imputed['age'], bank_imputed['duration'], hue = bank_imputed['contact'])\n",
    "plt.title('Figure 6: Scatterplot of age by last contact duration and contact communication type', fontsize = 15);\n",
    "plt.legend(loc = 'upper right')\n",
    "plt.show();"
   ]
  },
  {
   "cell_type": "markdown",
   "metadata": {},
   "source": [
    "From Figure 6, it is obverse that as the age increases, the duration of contact will gradually decrease and contact communication type tend to cellular."
   ]
  },
  {
   "cell_type": "markdown",
   "metadata": {},
   "source": [
    "<font size=\"6\" color='black'>Predictive modelling</font><a id=\"5\"></a> "
   ]
  },
  {
   "cell_type": "markdown",
   "metadata": {},
   "source": [
    "<font size=\"5\" color='black'>Overview of methodology</font>"
   ]
  },
  {
   "cell_type": "markdown",
   "metadata": {},
   "source": [
    "We consider the following (binary) classifiers to predict the target feature:\n",
    "<ol>\n",
    "    <li>K-Nearest Neighbors (KNN),</li>\n",
    "    <li>Decision trees (DT), and</li>\n",
    "    <li>Naive Bayes (NB).</li>\n",
    "</ol>\n",
    "Our modelling strategy begins by transforming the full dataset cleaned in Data Preparation part. This transformation includes encoding categorical descriptive features as numerical and then scaling of the descriptive features. We will split all observations into training and test sets with 70% and 30% respectively. This way, our training data has 2883 rows and test data has 1236 rows. To be clear, our terminology here is that \n",
    "<ol>\n",
    "    <li>The 2883 rows of data used during the hyperparameter tuning phase is called the training data.</li>\n",
    "    <li>The 1236 rows of data used during the performance comparison phase is called the test data.</li>\n",
    "</ol>\n",
    "\n",
    "Before fitting a particular classifier on the training data, we select the best features using the powerful Random Forest Importance method inside a pipeline. We consider 10, 20, and the full set of features after encoding of categorical features. Using feature selection together with hyperparameter search inside a single pipeline, we conduct 5-fold stratified cross-validation to fine-tune hyperparameters of each classifier using the area under the curve (AUC) as the performance metric. We build each model using parallel processing with \"-2\" cores. because of the unbalanced target class issue."
   ]
  },
  {
   "cell_type": "markdown",
   "metadata": {},
   "source": [
    "<font size=\"5\" color='black'>Encoding Categorical Features</font>"
   ]
  },
  {
   "cell_type": "markdown",
   "metadata": {},
   "source": [
    "Before modeling, it is essential to encode all categorical features include the target feature into a set of numerical features.\n",
    "\n"
   ]
  },
  {
   "cell_type": "markdown",
   "metadata": {},
   "source": [
    "<font size=\"4\" color='black'>Encoding the Target Feature</font>"
   ]
  },
  {
   "cell_type": "markdown",
   "metadata": {},
   "source": [
    "We remove the \"y\" feature from the dataset and named as \"target\". The rest of the features are the descriptive features which we call \"Data\"."
   ]
  },
  {
   "cell_type": "code",
   "execution_count": 19,
   "metadata": {},
   "outputs": [
    {
     "data": {
      "text/plain": [
       "no     3668\n",
       "yes     451\n",
       "Name: y, dtype: int64"
      ]
     },
     "execution_count": 19,
     "metadata": {},
     "output_type": "execute_result"
    }
   ],
   "source": [
    "Data = bank_imputed.drop(columns='y')\n",
    "target = bank_imputed['y']\n",
    "target.value_counts()"
   ]
  },
  {
   "cell_type": "markdown",
   "metadata": {},
   "source": [
    "Let's encode the target feature so that the positive class is \"yes\" and it is encoded as \"1\"; the negative  class is \"no\" and it is encoded as \"0\". "
   ]
  },
  {
   "cell_type": "code",
   "execution_count": 20,
   "metadata": {},
   "outputs": [
    {
     "data": {
      "text/plain": [
       "0    3668\n",
       "1     451\n",
       "Name: y, dtype: int64"
      ]
     },
     "execution_count": 20,
     "metadata": {},
     "output_type": "execute_result"
    }
   ],
   "source": [
    "target = target.replace({'no': 0, 'yes': 1})\n",
    "target.value_counts()"
   ]
  },
  {
   "cell_type": "markdown",
   "metadata": {},
   "source": [
    "<font size=\"4\" color='black'>Encoding Categorical Descriptive Features</font>"
   ]
  },
  {
   "cell_type": "markdown",
   "metadata": {},
   "source": [
    "Since all of the descriptive features appear to be nominal, we perform one-hot-encoding. Furthermore, since we plan on conducting feature selection, we define  𝑞  dummy variables for a categorical descriptive variable with  𝑞  levels. The exception here is that when a categorical descriptive feature has only two levels, we define a single dummy variable. Let's extract the list of categorical descriptive features."
   ]
  },
  {
   "cell_type": "code",
   "execution_count": 21,
   "metadata": {},
   "outputs": [],
   "source": [
    "categorical_cols = Data.columns[Data.dtypes==object].tolist()"
   ]
  },
  {
   "cell_type": "markdown",
   "metadata": {},
   "source": [
    "Before any transformation, the categorical features are as follows."
   ]
  },
  {
   "cell_type": "code",
   "execution_count": 22,
   "metadata": {},
   "outputs": [
    {
     "data": {
      "text/plain": [
       "['job',\n",
       " 'marital',\n",
       " 'education',\n",
       " 'default',\n",
       " 'housing',\n",
       " 'loan',\n",
       " 'contact',\n",
       " 'month',\n",
       " 'day_of_week',\n",
       " 'poutcome',\n",
       " 'pdays_group']"
      ]
     },
     "execution_count": 22,
     "metadata": {},
     "output_type": "execute_result"
    }
   ],
   "source": [
    "categorical_cols"
   ]
  },
  {
   "cell_type": "markdown",
   "metadata": {},
   "source": [
    "For each two-level categorical variable, we set the drop_first option to True to encode the variable into a single column of 0 or 1. "
   ]
  },
  {
   "cell_type": "code",
   "execution_count": 23,
   "metadata": {},
   "outputs": [],
   "source": [
    "# two-level categorical variable\n",
    "for col in categorical_cols:\n",
    "    n = len(Data[col].unique())\n",
    "    if (n == 2):\n",
    "        Data[col] = pd.get_dummies(Data[col], drop_first=True)"
   ]
  },
  {
   "cell_type": "markdown",
   "metadata": {},
   "source": [
    "We apply the get_dummies() function for the regular one-hot encoding for categorical features with greater than 2 levels."
   ]
  },
  {
   "cell_type": "code",
   "execution_count": 24,
   "metadata": {},
   "outputs": [],
   "source": [
    "Data = pd.get_dummies(Data)"
   ]
  },
  {
   "cell_type": "markdown",
   "metadata": {},
   "source": [
    "After encoding all categorical features, let's have a look of all features."
   ]
  },
  {
   "cell_type": "code",
   "execution_count": 25,
   "metadata": {},
   "outputs": [
    {
     "data": {
      "text/plain": [
       "Index(['age', 'default', 'housing', 'loan', 'contact', 'duration', 'campaign',\n",
       "       'previous', 'job_admin.', 'job_blue-collar', 'job_entrepreneur',\n",
       "       'job_housemaid', 'job_management', 'job_retired', 'job_self-employed',\n",
       "       'job_services', 'job_student', 'job_technician', 'job_unemployed',\n",
       "       'marital_divorced', 'marital_married', 'marital_single',\n",
       "       'education_basic.4y', 'education_basic.6y', 'education_basic.9y',\n",
       "       'education_high.school', 'education_illiterate',\n",
       "       'education_professional.course', 'education_university.degree',\n",
       "       'month_apr', 'month_aug', 'month_dec', 'month_jul', 'month_jun',\n",
       "       'month_mar', 'month_may', 'month_nov', 'month_oct', 'month_sep',\n",
       "       'day_of_week_fri', 'day_of_week_mon', 'day_of_week_thu',\n",
       "       'day_of_week_tue', 'day_of_week_wed', 'poutcome_failure',\n",
       "       'poutcome_nonexistent', 'poutcome_success', 'pdays_group_0_5',\n",
       "       'pdays_group_11_15', 'pdays_group_16_20', 'pdays_group_21_25',\n",
       "       'pdays_group_6_10', 'pdays_group_no_contacted'],\n",
       "      dtype='object')"
      ]
     },
     "execution_count": 25,
     "metadata": {},
     "output_type": "execute_result"
    }
   ],
   "source": [
    "Data.columns"
   ]
  },
  {
   "cell_type": "code",
   "execution_count": 26,
   "metadata": {},
   "outputs": [
    {
     "data": {
      "text/html": [
       "<div>\n",
       "<style scoped>\n",
       "    .dataframe tbody tr th:only-of-type {\n",
       "        vertical-align: middle;\n",
       "    }\n",
       "\n",
       "    .dataframe tbody tr th {\n",
       "        vertical-align: top;\n",
       "    }\n",
       "\n",
       "    .dataframe thead th {\n",
       "        text-align: right;\n",
       "    }\n",
       "</style>\n",
       "<table border=\"1\" class=\"dataframe\">\n",
       "  <thead>\n",
       "    <tr style=\"text-align: right;\">\n",
       "      <th></th>\n",
       "      <th>age</th>\n",
       "      <th>default</th>\n",
       "      <th>housing</th>\n",
       "      <th>loan</th>\n",
       "      <th>contact</th>\n",
       "      <th>duration</th>\n",
       "      <th>campaign</th>\n",
       "      <th>previous</th>\n",
       "      <th>job_admin.</th>\n",
       "      <th>job_blue-collar</th>\n",
       "      <th>job_entrepreneur</th>\n",
       "      <th>job_housemaid</th>\n",
       "      <th>job_management</th>\n",
       "      <th>job_retired</th>\n",
       "      <th>job_self-employed</th>\n",
       "      <th>job_services</th>\n",
       "      <th>job_student</th>\n",
       "      <th>job_technician</th>\n",
       "      <th>job_unemployed</th>\n",
       "      <th>marital_divorced</th>\n",
       "      <th>marital_married</th>\n",
       "      <th>marital_single</th>\n",
       "      <th>education_basic.4y</th>\n",
       "      <th>education_basic.6y</th>\n",
       "      <th>education_basic.9y</th>\n",
       "      <th>education_high.school</th>\n",
       "      <th>education_illiterate</th>\n",
       "      <th>education_professional.course</th>\n",
       "      <th>education_university.degree</th>\n",
       "      <th>month_apr</th>\n",
       "      <th>month_aug</th>\n",
       "      <th>month_dec</th>\n",
       "      <th>month_jul</th>\n",
       "      <th>month_jun</th>\n",
       "      <th>month_mar</th>\n",
       "      <th>month_may</th>\n",
       "      <th>month_nov</th>\n",
       "      <th>month_oct</th>\n",
       "      <th>month_sep</th>\n",
       "      <th>day_of_week_fri</th>\n",
       "      <th>day_of_week_mon</th>\n",
       "      <th>day_of_week_thu</th>\n",
       "      <th>day_of_week_tue</th>\n",
       "      <th>day_of_week_wed</th>\n",
       "      <th>poutcome_failure</th>\n",
       "      <th>poutcome_nonexistent</th>\n",
       "      <th>poutcome_success</th>\n",
       "      <th>pdays_group_0_5</th>\n",
       "      <th>pdays_group_11_15</th>\n",
       "      <th>pdays_group_16_20</th>\n",
       "      <th>pdays_group_21_25</th>\n",
       "      <th>pdays_group_6_10</th>\n",
       "      <th>pdays_group_no_contacted</th>\n",
       "    </tr>\n",
       "  </thead>\n",
       "  <tbody>\n",
       "    <tr>\n",
       "      <th>3792</th>\n",
       "      <td>32</td>\n",
       "      <td>0</td>\n",
       "      <td>1</td>\n",
       "      <td>0</td>\n",
       "      <td>0</td>\n",
       "      <td>256.788</td>\n",
       "      <td>2</td>\n",
       "      <td>0</td>\n",
       "      <td>0</td>\n",
       "      <td>0</td>\n",
       "      <td>0</td>\n",
       "      <td>0</td>\n",
       "      <td>0</td>\n",
       "      <td>0</td>\n",
       "      <td>0</td>\n",
       "      <td>0</td>\n",
       "      <td>0</td>\n",
       "      <td>1</td>\n",
       "      <td>0</td>\n",
       "      <td>0</td>\n",
       "      <td>0</td>\n",
       "      <td>1</td>\n",
       "      <td>0</td>\n",
       "      <td>0</td>\n",
       "      <td>0</td>\n",
       "      <td>0</td>\n",
       "      <td>0</td>\n",
       "      <td>1</td>\n",
       "      <td>0</td>\n",
       "      <td>0</td>\n",
       "      <td>0</td>\n",
       "      <td>0</td>\n",
       "      <td>0</td>\n",
       "      <td>0</td>\n",
       "      <td>0</td>\n",
       "      <td>1</td>\n",
       "      <td>0</td>\n",
       "      <td>0</td>\n",
       "      <td>0</td>\n",
       "      <td>0</td>\n",
       "      <td>0</td>\n",
       "      <td>0</td>\n",
       "      <td>0</td>\n",
       "      <td>1</td>\n",
       "      <td>0</td>\n",
       "      <td>1</td>\n",
       "      <td>0</td>\n",
       "      <td>0</td>\n",
       "      <td>0</td>\n",
       "      <td>0</td>\n",
       "      <td>0</td>\n",
       "      <td>0</td>\n",
       "      <td>1</td>\n",
       "    </tr>\n",
       "    <tr>\n",
       "      <th>2146</th>\n",
       "      <td>37</td>\n",
       "      <td>0</td>\n",
       "      <td>1</td>\n",
       "      <td>0</td>\n",
       "      <td>0</td>\n",
       "      <td>256.788</td>\n",
       "      <td>1</td>\n",
       "      <td>0</td>\n",
       "      <td>1</td>\n",
       "      <td>0</td>\n",
       "      <td>0</td>\n",
       "      <td>0</td>\n",
       "      <td>0</td>\n",
       "      <td>0</td>\n",
       "      <td>0</td>\n",
       "      <td>0</td>\n",
       "      <td>0</td>\n",
       "      <td>0</td>\n",
       "      <td>0</td>\n",
       "      <td>0</td>\n",
       "      <td>1</td>\n",
       "      <td>0</td>\n",
       "      <td>0</td>\n",
       "      <td>0</td>\n",
       "      <td>0</td>\n",
       "      <td>0</td>\n",
       "      <td>0</td>\n",
       "      <td>1</td>\n",
       "      <td>0</td>\n",
       "      <td>0</td>\n",
       "      <td>0</td>\n",
       "      <td>0</td>\n",
       "      <td>0</td>\n",
       "      <td>0</td>\n",
       "      <td>0</td>\n",
       "      <td>0</td>\n",
       "      <td>1</td>\n",
       "      <td>0</td>\n",
       "      <td>0</td>\n",
       "      <td>0</td>\n",
       "      <td>0</td>\n",
       "      <td>0</td>\n",
       "      <td>0</td>\n",
       "      <td>1</td>\n",
       "      <td>0</td>\n",
       "      <td>1</td>\n",
       "      <td>0</td>\n",
       "      <td>0</td>\n",
       "      <td>0</td>\n",
       "      <td>0</td>\n",
       "      <td>0</td>\n",
       "      <td>0</td>\n",
       "      <td>1</td>\n",
       "    </tr>\n",
       "    <tr>\n",
       "      <th>1171</th>\n",
       "      <td>38</td>\n",
       "      <td>0</td>\n",
       "      <td>0</td>\n",
       "      <td>0</td>\n",
       "      <td>1</td>\n",
       "      <td>278.000</td>\n",
       "      <td>1</td>\n",
       "      <td>0</td>\n",
       "      <td>0</td>\n",
       "      <td>1</td>\n",
       "      <td>0</td>\n",
       "      <td>0</td>\n",
       "      <td>0</td>\n",
       "      <td>0</td>\n",
       "      <td>0</td>\n",
       "      <td>0</td>\n",
       "      <td>0</td>\n",
       "      <td>0</td>\n",
       "      <td>0</td>\n",
       "      <td>1</td>\n",
       "      <td>0</td>\n",
       "      <td>0</td>\n",
       "      <td>0</td>\n",
       "      <td>0</td>\n",
       "      <td>0</td>\n",
       "      <td>0</td>\n",
       "      <td>0</td>\n",
       "      <td>0</td>\n",
       "      <td>1</td>\n",
       "      <td>0</td>\n",
       "      <td>0</td>\n",
       "      <td>0</td>\n",
       "      <td>0</td>\n",
       "      <td>1</td>\n",
       "      <td>0</td>\n",
       "      <td>0</td>\n",
       "      <td>0</td>\n",
       "      <td>0</td>\n",
       "      <td>0</td>\n",
       "      <td>1</td>\n",
       "      <td>0</td>\n",
       "      <td>0</td>\n",
       "      <td>0</td>\n",
       "      <td>0</td>\n",
       "      <td>0</td>\n",
       "      <td>1</td>\n",
       "      <td>0</td>\n",
       "      <td>0</td>\n",
       "      <td>0</td>\n",
       "      <td>0</td>\n",
       "      <td>0</td>\n",
       "      <td>0</td>\n",
       "      <td>1</td>\n",
       "    </tr>\n",
       "    <tr>\n",
       "      <th>4033</th>\n",
       "      <td>49</td>\n",
       "      <td>0</td>\n",
       "      <td>0</td>\n",
       "      <td>1</td>\n",
       "      <td>0</td>\n",
       "      <td>256.788</td>\n",
       "      <td>3</td>\n",
       "      <td>0</td>\n",
       "      <td>1</td>\n",
       "      <td>0</td>\n",
       "      <td>0</td>\n",
       "      <td>0</td>\n",
       "      <td>0</td>\n",
       "      <td>0</td>\n",
       "      <td>0</td>\n",
       "      <td>0</td>\n",
       "      <td>0</td>\n",
       "      <td>0</td>\n",
       "      <td>0</td>\n",
       "      <td>0</td>\n",
       "      <td>1</td>\n",
       "      <td>0</td>\n",
       "      <td>0</td>\n",
       "      <td>0</td>\n",
       "      <td>1</td>\n",
       "      <td>0</td>\n",
       "      <td>0</td>\n",
       "      <td>0</td>\n",
       "      <td>0</td>\n",
       "      <td>0</td>\n",
       "      <td>1</td>\n",
       "      <td>0</td>\n",
       "      <td>0</td>\n",
       "      <td>0</td>\n",
       "      <td>0</td>\n",
       "      <td>0</td>\n",
       "      <td>0</td>\n",
       "      <td>0</td>\n",
       "      <td>0</td>\n",
       "      <td>0</td>\n",
       "      <td>0</td>\n",
       "      <td>1</td>\n",
       "      <td>0</td>\n",
       "      <td>0</td>\n",
       "      <td>0</td>\n",
       "      <td>1</td>\n",
       "      <td>0</td>\n",
       "      <td>0</td>\n",
       "      <td>0</td>\n",
       "      <td>0</td>\n",
       "      <td>0</td>\n",
       "      <td>0</td>\n",
       "      <td>1</td>\n",
       "    </tr>\n",
       "    <tr>\n",
       "      <th>565</th>\n",
       "      <td>34</td>\n",
       "      <td>0</td>\n",
       "      <td>1</td>\n",
       "      <td>0</td>\n",
       "      <td>0</td>\n",
       "      <td>135.000</td>\n",
       "      <td>3</td>\n",
       "      <td>0</td>\n",
       "      <td>0</td>\n",
       "      <td>1</td>\n",
       "      <td>0</td>\n",
       "      <td>0</td>\n",
       "      <td>0</td>\n",
       "      <td>0</td>\n",
       "      <td>0</td>\n",
       "      <td>0</td>\n",
       "      <td>0</td>\n",
       "      <td>0</td>\n",
       "      <td>0</td>\n",
       "      <td>0</td>\n",
       "      <td>1</td>\n",
       "      <td>0</td>\n",
       "      <td>0</td>\n",
       "      <td>0</td>\n",
       "      <td>0</td>\n",
       "      <td>0</td>\n",
       "      <td>0</td>\n",
       "      <td>1</td>\n",
       "      <td>0</td>\n",
       "      <td>0</td>\n",
       "      <td>0</td>\n",
       "      <td>0</td>\n",
       "      <td>0</td>\n",
       "      <td>0</td>\n",
       "      <td>0</td>\n",
       "      <td>0</td>\n",
       "      <td>1</td>\n",
       "      <td>0</td>\n",
       "      <td>0</td>\n",
       "      <td>0</td>\n",
       "      <td>0</td>\n",
       "      <td>0</td>\n",
       "      <td>1</td>\n",
       "      <td>0</td>\n",
       "      <td>0</td>\n",
       "      <td>1</td>\n",
       "      <td>0</td>\n",
       "      <td>0</td>\n",
       "      <td>0</td>\n",
       "      <td>0</td>\n",
       "      <td>0</td>\n",
       "      <td>0</td>\n",
       "      <td>1</td>\n",
       "    </tr>\n",
       "  </tbody>\n",
       "</table>\n",
       "</div>"
      ],
      "text/plain": [
       "      age  default  housing  loan  contact  duration  campaign  previous  \\\n",
       "3792   32        0        1     0        0   256.788         2         0   \n",
       "2146   37        0        1     0        0   256.788         1         0   \n",
       "1171   38        0        0     0        1   278.000         1         0   \n",
       "4033   49        0        0     1        0   256.788         3         0   \n",
       "565    34        0        1     0        0   135.000         3         0   \n",
       "\n",
       "      job_admin.  job_blue-collar  job_entrepreneur  job_housemaid  \\\n",
       "3792           0                0                 0              0   \n",
       "2146           1                0                 0              0   \n",
       "1171           0                1                 0              0   \n",
       "4033           1                0                 0              0   \n",
       "565            0                1                 0              0   \n",
       "\n",
       "      job_management  job_retired  job_self-employed  job_services  \\\n",
       "3792               0            0                  0             0   \n",
       "2146               0            0                  0             0   \n",
       "1171               0            0                  0             0   \n",
       "4033               0            0                  0             0   \n",
       "565                0            0                  0             0   \n",
       "\n",
       "      job_student  job_technician  job_unemployed  marital_divorced  \\\n",
       "3792            0               1               0                 0   \n",
       "2146            0               0               0                 0   \n",
       "1171            0               0               0                 1   \n",
       "4033            0               0               0                 0   \n",
       "565             0               0               0                 0   \n",
       "\n",
       "      marital_married  marital_single  education_basic.4y  education_basic.6y  \\\n",
       "3792                0               1                   0                   0   \n",
       "2146                1               0                   0                   0   \n",
       "1171                0               0                   0                   0   \n",
       "4033                1               0                   0                   0   \n",
       "565                 1               0                   0                   0   \n",
       "\n",
       "      education_basic.9y  education_high.school  education_illiterate  \\\n",
       "3792                   0                      0                     0   \n",
       "2146                   0                      0                     0   \n",
       "1171                   0                      0                     0   \n",
       "4033                   1                      0                     0   \n",
       "565                    0                      0                     0   \n",
       "\n",
       "      education_professional.course  education_university.degree  month_apr  \\\n",
       "3792                              1                            0          0   \n",
       "2146                              1                            0          0   \n",
       "1171                              0                            1          0   \n",
       "4033                              0                            0          0   \n",
       "565                               1                            0          0   \n",
       "\n",
       "      month_aug  month_dec  month_jul  month_jun  month_mar  month_may  \\\n",
       "3792          0          0          0          0          0          1   \n",
       "2146          0          0          0          0          0          0   \n",
       "1171          0          0          0          1          0          0   \n",
       "4033          1          0          0          0          0          0   \n",
       "565           0          0          0          0          0          0   \n",
       "\n",
       "      month_nov  month_oct  month_sep  day_of_week_fri  day_of_week_mon  \\\n",
       "3792          0          0          0                0                0   \n",
       "2146          1          0          0                0                0   \n",
       "1171          0          0          0                1                0   \n",
       "4033          0          0          0                0                0   \n",
       "565           1          0          0                0                0   \n",
       "\n",
       "      day_of_week_thu  day_of_week_tue  day_of_week_wed  poutcome_failure  \\\n",
       "3792                0                0                1                 0   \n",
       "2146                0                0                1                 0   \n",
       "1171                0                0                0                 0   \n",
       "4033                1                0                0                 0   \n",
       "565                 0                1                0                 0   \n",
       "\n",
       "      poutcome_nonexistent  poutcome_success  pdays_group_0_5  \\\n",
       "3792                     1                 0                0   \n",
       "2146                     1                 0                0   \n",
       "1171                     1                 0                0   \n",
       "4033                     1                 0                0   \n",
       "565                      1                 0                0   \n",
       "\n",
       "      pdays_group_11_15  pdays_group_16_20  pdays_group_21_25  \\\n",
       "3792                  0                  0                  0   \n",
       "2146                  0                  0                  0   \n",
       "1171                  0                  0                  0   \n",
       "4033                  0                  0                  0   \n",
       "565                   0                  0                  0   \n",
       "\n",
       "      pdays_group_6_10  pdays_group_no_contacted  \n",
       "3792                 0                         1  \n",
       "2146                 0                         1  \n",
       "1171                 0                         1  \n",
       "4033                 0                         1  \n",
       "565                  0                         1  "
      ]
     },
     "execution_count": 26,
     "metadata": {},
     "output_type": "execute_result"
    }
   ],
   "source": [
    "Data.sample(5, random_state=999)"
   ]
  },
  {
   "cell_type": "markdown",
   "metadata": {},
   "source": [
    "<font size=\"5\" color='black'>Scaling of Features</font>"
   ]
  },
  {
   "cell_type": "markdown",
   "metadata": {},
   "source": [
    "After encoding all the categorical features, we need to scale all data set with MinMaxScaler. Before encoding, make a copy."
   ]
  },
  {
   "cell_type": "code",
   "execution_count": 27,
   "metadata": {},
   "outputs": [
    {
     "data": {
      "text/html": [
       "<div>\n",
       "<style scoped>\n",
       "    .dataframe tbody tr th:only-of-type {\n",
       "        vertical-align: middle;\n",
       "    }\n",
       "\n",
       "    .dataframe tbody tr th {\n",
       "        vertical-align: top;\n",
       "    }\n",
       "\n",
       "    .dataframe thead th {\n",
       "        text-align: right;\n",
       "    }\n",
       "</style>\n",
       "<table border=\"1\" class=\"dataframe\">\n",
       "  <thead>\n",
       "    <tr style=\"text-align: right;\">\n",
       "      <th></th>\n",
       "      <th>age</th>\n",
       "      <th>default</th>\n",
       "      <th>housing</th>\n",
       "      <th>loan</th>\n",
       "      <th>contact</th>\n",
       "      <th>duration</th>\n",
       "      <th>campaign</th>\n",
       "      <th>previous</th>\n",
       "      <th>job_admin.</th>\n",
       "      <th>job_blue-collar</th>\n",
       "      <th>job_entrepreneur</th>\n",
       "      <th>job_housemaid</th>\n",
       "      <th>job_management</th>\n",
       "      <th>job_retired</th>\n",
       "      <th>job_self-employed</th>\n",
       "      <th>job_services</th>\n",
       "      <th>job_student</th>\n",
       "      <th>job_technician</th>\n",
       "      <th>job_unemployed</th>\n",
       "      <th>marital_divorced</th>\n",
       "      <th>marital_married</th>\n",
       "      <th>marital_single</th>\n",
       "      <th>education_basic.4y</th>\n",
       "      <th>education_basic.6y</th>\n",
       "      <th>education_basic.9y</th>\n",
       "      <th>education_high.school</th>\n",
       "      <th>education_illiterate</th>\n",
       "      <th>education_professional.course</th>\n",
       "      <th>education_university.degree</th>\n",
       "      <th>month_apr</th>\n",
       "      <th>month_aug</th>\n",
       "      <th>month_dec</th>\n",
       "      <th>month_jul</th>\n",
       "      <th>month_jun</th>\n",
       "      <th>month_mar</th>\n",
       "      <th>month_may</th>\n",
       "      <th>month_nov</th>\n",
       "      <th>month_oct</th>\n",
       "      <th>month_sep</th>\n",
       "      <th>day_of_week_fri</th>\n",
       "      <th>day_of_week_mon</th>\n",
       "      <th>day_of_week_thu</th>\n",
       "      <th>day_of_week_tue</th>\n",
       "      <th>day_of_week_wed</th>\n",
       "      <th>poutcome_failure</th>\n",
       "      <th>poutcome_nonexistent</th>\n",
       "      <th>poutcome_success</th>\n",
       "      <th>pdays_group_0_5</th>\n",
       "      <th>pdays_group_11_15</th>\n",
       "      <th>pdays_group_16_20</th>\n",
       "      <th>pdays_group_21_25</th>\n",
       "      <th>pdays_group_6_10</th>\n",
       "      <th>pdays_group_no_contacted</th>\n",
       "    </tr>\n",
       "  </thead>\n",
       "  <tbody>\n",
       "    <tr>\n",
       "      <th>3792</th>\n",
       "      <td>0.200000</td>\n",
       "      <td>0.0</td>\n",
       "      <td>1.0</td>\n",
       "      <td>0.0</td>\n",
       "      <td>0.0</td>\n",
       "      <td>0.718636</td>\n",
       "      <td>0.029412</td>\n",
       "      <td>0.0</td>\n",
       "      <td>0.0</td>\n",
       "      <td>0.0</td>\n",
       "      <td>0.0</td>\n",
       "      <td>0.0</td>\n",
       "      <td>0.0</td>\n",
       "      <td>0.0</td>\n",
       "      <td>0.0</td>\n",
       "      <td>0.0</td>\n",
       "      <td>0.0</td>\n",
       "      <td>1.0</td>\n",
       "      <td>0.0</td>\n",
       "      <td>0.0</td>\n",
       "      <td>0.0</td>\n",
       "      <td>1.0</td>\n",
       "      <td>0.0</td>\n",
       "      <td>0.0</td>\n",
       "      <td>0.0</td>\n",
       "      <td>0.0</td>\n",
       "      <td>0.0</td>\n",
       "      <td>1.0</td>\n",
       "      <td>0.0</td>\n",
       "      <td>0.0</td>\n",
       "      <td>0.0</td>\n",
       "      <td>0.0</td>\n",
       "      <td>0.0</td>\n",
       "      <td>0.0</td>\n",
       "      <td>0.0</td>\n",
       "      <td>1.0</td>\n",
       "      <td>0.0</td>\n",
       "      <td>0.0</td>\n",
       "      <td>0.0</td>\n",
       "      <td>0.0</td>\n",
       "      <td>0.0</td>\n",
       "      <td>0.0</td>\n",
       "      <td>0.0</td>\n",
       "      <td>1.0</td>\n",
       "      <td>0.0</td>\n",
       "      <td>1.0</td>\n",
       "      <td>0.0</td>\n",
       "      <td>0.0</td>\n",
       "      <td>0.0</td>\n",
       "      <td>0.0</td>\n",
       "      <td>0.0</td>\n",
       "      <td>0.0</td>\n",
       "      <td>1.0</td>\n",
       "    </tr>\n",
       "    <tr>\n",
       "      <th>2146</th>\n",
       "      <td>0.271429</td>\n",
       "      <td>0.0</td>\n",
       "      <td>1.0</td>\n",
       "      <td>0.0</td>\n",
       "      <td>0.0</td>\n",
       "      <td>0.718636</td>\n",
       "      <td>0.000000</td>\n",
       "      <td>0.0</td>\n",
       "      <td>1.0</td>\n",
       "      <td>0.0</td>\n",
       "      <td>0.0</td>\n",
       "      <td>0.0</td>\n",
       "      <td>0.0</td>\n",
       "      <td>0.0</td>\n",
       "      <td>0.0</td>\n",
       "      <td>0.0</td>\n",
       "      <td>0.0</td>\n",
       "      <td>0.0</td>\n",
       "      <td>0.0</td>\n",
       "      <td>0.0</td>\n",
       "      <td>1.0</td>\n",
       "      <td>0.0</td>\n",
       "      <td>0.0</td>\n",
       "      <td>0.0</td>\n",
       "      <td>0.0</td>\n",
       "      <td>0.0</td>\n",
       "      <td>0.0</td>\n",
       "      <td>1.0</td>\n",
       "      <td>0.0</td>\n",
       "      <td>0.0</td>\n",
       "      <td>0.0</td>\n",
       "      <td>0.0</td>\n",
       "      <td>0.0</td>\n",
       "      <td>0.0</td>\n",
       "      <td>0.0</td>\n",
       "      <td>0.0</td>\n",
       "      <td>1.0</td>\n",
       "      <td>0.0</td>\n",
       "      <td>0.0</td>\n",
       "      <td>0.0</td>\n",
       "      <td>0.0</td>\n",
       "      <td>0.0</td>\n",
       "      <td>0.0</td>\n",
       "      <td>1.0</td>\n",
       "      <td>0.0</td>\n",
       "      <td>1.0</td>\n",
       "      <td>0.0</td>\n",
       "      <td>0.0</td>\n",
       "      <td>0.0</td>\n",
       "      <td>0.0</td>\n",
       "      <td>0.0</td>\n",
       "      <td>0.0</td>\n",
       "      <td>1.0</td>\n",
       "    </tr>\n",
       "    <tr>\n",
       "      <th>1171</th>\n",
       "      <td>0.285714</td>\n",
       "      <td>0.0</td>\n",
       "      <td>0.0</td>\n",
       "      <td>0.0</td>\n",
       "      <td>1.0</td>\n",
       "      <td>0.817757</td>\n",
       "      <td>0.000000</td>\n",
       "      <td>0.0</td>\n",
       "      <td>0.0</td>\n",
       "      <td>1.0</td>\n",
       "      <td>0.0</td>\n",
       "      <td>0.0</td>\n",
       "      <td>0.0</td>\n",
       "      <td>0.0</td>\n",
       "      <td>0.0</td>\n",
       "      <td>0.0</td>\n",
       "      <td>0.0</td>\n",
       "      <td>0.0</td>\n",
       "      <td>0.0</td>\n",
       "      <td>1.0</td>\n",
       "      <td>0.0</td>\n",
       "      <td>0.0</td>\n",
       "      <td>0.0</td>\n",
       "      <td>0.0</td>\n",
       "      <td>0.0</td>\n",
       "      <td>0.0</td>\n",
       "      <td>0.0</td>\n",
       "      <td>0.0</td>\n",
       "      <td>1.0</td>\n",
       "      <td>0.0</td>\n",
       "      <td>0.0</td>\n",
       "      <td>0.0</td>\n",
       "      <td>0.0</td>\n",
       "      <td>1.0</td>\n",
       "      <td>0.0</td>\n",
       "      <td>0.0</td>\n",
       "      <td>0.0</td>\n",
       "      <td>0.0</td>\n",
       "      <td>0.0</td>\n",
       "      <td>1.0</td>\n",
       "      <td>0.0</td>\n",
       "      <td>0.0</td>\n",
       "      <td>0.0</td>\n",
       "      <td>0.0</td>\n",
       "      <td>0.0</td>\n",
       "      <td>1.0</td>\n",
       "      <td>0.0</td>\n",
       "      <td>0.0</td>\n",
       "      <td>0.0</td>\n",
       "      <td>0.0</td>\n",
       "      <td>0.0</td>\n",
       "      <td>0.0</td>\n",
       "      <td>1.0</td>\n",
       "    </tr>\n",
       "    <tr>\n",
       "      <th>4033</th>\n",
       "      <td>0.442857</td>\n",
       "      <td>0.0</td>\n",
       "      <td>0.0</td>\n",
       "      <td>1.0</td>\n",
       "      <td>0.0</td>\n",
       "      <td>0.718636</td>\n",
       "      <td>0.058824</td>\n",
       "      <td>0.0</td>\n",
       "      <td>1.0</td>\n",
       "      <td>0.0</td>\n",
       "      <td>0.0</td>\n",
       "      <td>0.0</td>\n",
       "      <td>0.0</td>\n",
       "      <td>0.0</td>\n",
       "      <td>0.0</td>\n",
       "      <td>0.0</td>\n",
       "      <td>0.0</td>\n",
       "      <td>0.0</td>\n",
       "      <td>0.0</td>\n",
       "      <td>0.0</td>\n",
       "      <td>1.0</td>\n",
       "      <td>0.0</td>\n",
       "      <td>0.0</td>\n",
       "      <td>0.0</td>\n",
       "      <td>1.0</td>\n",
       "      <td>0.0</td>\n",
       "      <td>0.0</td>\n",
       "      <td>0.0</td>\n",
       "      <td>0.0</td>\n",
       "      <td>0.0</td>\n",
       "      <td>1.0</td>\n",
       "      <td>0.0</td>\n",
       "      <td>0.0</td>\n",
       "      <td>0.0</td>\n",
       "      <td>0.0</td>\n",
       "      <td>0.0</td>\n",
       "      <td>0.0</td>\n",
       "      <td>0.0</td>\n",
       "      <td>0.0</td>\n",
       "      <td>0.0</td>\n",
       "      <td>0.0</td>\n",
       "      <td>1.0</td>\n",
       "      <td>0.0</td>\n",
       "      <td>0.0</td>\n",
       "      <td>0.0</td>\n",
       "      <td>1.0</td>\n",
       "      <td>0.0</td>\n",
       "      <td>0.0</td>\n",
       "      <td>0.0</td>\n",
       "      <td>0.0</td>\n",
       "      <td>0.0</td>\n",
       "      <td>0.0</td>\n",
       "      <td>1.0</td>\n",
       "    </tr>\n",
       "    <tr>\n",
       "      <th>565</th>\n",
       "      <td>0.228571</td>\n",
       "      <td>0.0</td>\n",
       "      <td>1.0</td>\n",
       "      <td>0.0</td>\n",
       "      <td>0.0</td>\n",
       "      <td>0.149533</td>\n",
       "      <td>0.058824</td>\n",
       "      <td>0.0</td>\n",
       "      <td>0.0</td>\n",
       "      <td>1.0</td>\n",
       "      <td>0.0</td>\n",
       "      <td>0.0</td>\n",
       "      <td>0.0</td>\n",
       "      <td>0.0</td>\n",
       "      <td>0.0</td>\n",
       "      <td>0.0</td>\n",
       "      <td>0.0</td>\n",
       "      <td>0.0</td>\n",
       "      <td>0.0</td>\n",
       "      <td>0.0</td>\n",
       "      <td>1.0</td>\n",
       "      <td>0.0</td>\n",
       "      <td>0.0</td>\n",
       "      <td>0.0</td>\n",
       "      <td>0.0</td>\n",
       "      <td>0.0</td>\n",
       "      <td>0.0</td>\n",
       "      <td>1.0</td>\n",
       "      <td>0.0</td>\n",
       "      <td>0.0</td>\n",
       "      <td>0.0</td>\n",
       "      <td>0.0</td>\n",
       "      <td>0.0</td>\n",
       "      <td>0.0</td>\n",
       "      <td>0.0</td>\n",
       "      <td>0.0</td>\n",
       "      <td>1.0</td>\n",
       "      <td>0.0</td>\n",
       "      <td>0.0</td>\n",
       "      <td>0.0</td>\n",
       "      <td>0.0</td>\n",
       "      <td>0.0</td>\n",
       "      <td>1.0</td>\n",
       "      <td>0.0</td>\n",
       "      <td>0.0</td>\n",
       "      <td>1.0</td>\n",
       "      <td>0.0</td>\n",
       "      <td>0.0</td>\n",
       "      <td>0.0</td>\n",
       "      <td>0.0</td>\n",
       "      <td>0.0</td>\n",
       "      <td>0.0</td>\n",
       "      <td>1.0</td>\n",
       "    </tr>\n",
       "  </tbody>\n",
       "</table>\n",
       "</div>"
      ],
      "text/plain": [
       "           age  default  housing  loan  contact  duration  campaign  previous  \\\n",
       "3792  0.200000      0.0      1.0   0.0      0.0  0.718636  0.029412       0.0   \n",
       "2146  0.271429      0.0      1.0   0.0      0.0  0.718636  0.000000       0.0   \n",
       "1171  0.285714      0.0      0.0   0.0      1.0  0.817757  0.000000       0.0   \n",
       "4033  0.442857      0.0      0.0   1.0      0.0  0.718636  0.058824       0.0   \n",
       "565   0.228571      0.0      1.0   0.0      0.0  0.149533  0.058824       0.0   \n",
       "\n",
       "      job_admin.  job_blue-collar  job_entrepreneur  job_housemaid  \\\n",
       "3792         0.0              0.0               0.0            0.0   \n",
       "2146         1.0              0.0               0.0            0.0   \n",
       "1171         0.0              1.0               0.0            0.0   \n",
       "4033         1.0              0.0               0.0            0.0   \n",
       "565          0.0              1.0               0.0            0.0   \n",
       "\n",
       "      job_management  job_retired  job_self-employed  job_services  \\\n",
       "3792             0.0          0.0                0.0           0.0   \n",
       "2146             0.0          0.0                0.0           0.0   \n",
       "1171             0.0          0.0                0.0           0.0   \n",
       "4033             0.0          0.0                0.0           0.0   \n",
       "565              0.0          0.0                0.0           0.0   \n",
       "\n",
       "      job_student  job_technician  job_unemployed  marital_divorced  \\\n",
       "3792          0.0             1.0             0.0               0.0   \n",
       "2146          0.0             0.0             0.0               0.0   \n",
       "1171          0.0             0.0             0.0               1.0   \n",
       "4033          0.0             0.0             0.0               0.0   \n",
       "565           0.0             0.0             0.0               0.0   \n",
       "\n",
       "      marital_married  marital_single  education_basic.4y  education_basic.6y  \\\n",
       "3792              0.0             1.0                 0.0                 0.0   \n",
       "2146              1.0             0.0                 0.0                 0.0   \n",
       "1171              0.0             0.0                 0.0                 0.0   \n",
       "4033              1.0             0.0                 0.0                 0.0   \n",
       "565               1.0             0.0                 0.0                 0.0   \n",
       "\n",
       "      education_basic.9y  education_high.school  education_illiterate  \\\n",
       "3792                 0.0                    0.0                   0.0   \n",
       "2146                 0.0                    0.0                   0.0   \n",
       "1171                 0.0                    0.0                   0.0   \n",
       "4033                 1.0                    0.0                   0.0   \n",
       "565                  0.0                    0.0                   0.0   \n",
       "\n",
       "      education_professional.course  education_university.degree  month_apr  \\\n",
       "3792                            1.0                          0.0        0.0   \n",
       "2146                            1.0                          0.0        0.0   \n",
       "1171                            0.0                          1.0        0.0   \n",
       "4033                            0.0                          0.0        0.0   \n",
       "565                             1.0                          0.0        0.0   \n",
       "\n",
       "      month_aug  month_dec  month_jul  month_jun  month_mar  month_may  \\\n",
       "3792        0.0        0.0        0.0        0.0        0.0        1.0   \n",
       "2146        0.0        0.0        0.0        0.0        0.0        0.0   \n",
       "1171        0.0        0.0        0.0        1.0        0.0        0.0   \n",
       "4033        1.0        0.0        0.0        0.0        0.0        0.0   \n",
       "565         0.0        0.0        0.0        0.0        0.0        0.0   \n",
       "\n",
       "      month_nov  month_oct  month_sep  day_of_week_fri  day_of_week_mon  \\\n",
       "3792        0.0        0.0        0.0              0.0              0.0   \n",
       "2146        1.0        0.0        0.0              0.0              0.0   \n",
       "1171        0.0        0.0        0.0              1.0              0.0   \n",
       "4033        0.0        0.0        0.0              0.0              0.0   \n",
       "565         1.0        0.0        0.0              0.0              0.0   \n",
       "\n",
       "      day_of_week_thu  day_of_week_tue  day_of_week_wed  poutcome_failure  \\\n",
       "3792              0.0              0.0              1.0               0.0   \n",
       "2146              0.0              0.0              1.0               0.0   \n",
       "1171              0.0              0.0              0.0               0.0   \n",
       "4033              1.0              0.0              0.0               0.0   \n",
       "565               0.0              1.0              0.0               0.0   \n",
       "\n",
       "      poutcome_nonexistent  poutcome_success  pdays_group_0_5  \\\n",
       "3792                   1.0               0.0              0.0   \n",
       "2146                   1.0               0.0              0.0   \n",
       "1171                   1.0               0.0              0.0   \n",
       "4033                   1.0               0.0              0.0   \n",
       "565                    1.0               0.0              0.0   \n",
       "\n",
       "      pdays_group_11_15  pdays_group_16_20  pdays_group_21_25  \\\n",
       "3792                0.0                0.0                0.0   \n",
       "2146                0.0                0.0                0.0   \n",
       "1171                0.0                0.0                0.0   \n",
       "4033                0.0                0.0                0.0   \n",
       "565                 0.0                0.0                0.0   \n",
       "\n",
       "      pdays_group_6_10  pdays_group_no_contacted  \n",
       "3792               0.0                       1.0  \n",
       "2146               0.0                       1.0  \n",
       "1171               0.0                       1.0  \n",
       "4033               0.0                       1.0  \n",
       "565                0.0                       1.0  "
      ]
     },
     "execution_count": 27,
     "metadata": {},
     "output_type": "execute_result"
    }
   ],
   "source": [
    "Data_df = Data.copy()\n",
    "col_names = Data_df.columns\n",
    "scaler_Data = preprocessing.MinMaxScaler().fit_transform(Data)\n",
    "# convert to a data frame with correct column names\n",
    "pd.DataFrame(scaler_Data, columns=col_names).sample(n=5, random_state=999)"
   ]
  },
  {
   "cell_type": "markdown",
   "metadata": {},
   "source": [
    "<font size=\"5\" color='black'>Feature Selection & Ranking</font>"
   ]
  },
  {
   "cell_type": "markdown",
   "metadata": {},
   "source": [
    "Now we will select top 10 influential features."
   ]
  },
  {
   "cell_type": "code",
   "execution_count": 28,
   "metadata": {},
   "outputs": [
    {
     "data": {
      "text/plain": [
       "array(['age', 'duration', 'campaign', 'pdays_group_no_contacted',\n",
       "       'housing', 'poutcome_success', 'previous', 'month_jun',\n",
       "       'job_admin.', 'loan'], dtype=object)"
      ]
     },
     "execution_count": 28,
     "metadata": {},
     "output_type": "execute_result"
    }
   ],
   "source": [
    "num_of_features = 10\n",
    "model_rfi = RandomForestClassifier(n_estimators=100).fit(Data, target)\n",
    "Feature_Selection_indices_rfi = np.argsort(model_rfi.feature_importances_)[::-1][0:num_of_features]\n",
    "best_features = Data_df.columns[Feature_Selection_indices_rfi].values\n",
    "best_features"
   ]
  },
  {
   "cell_type": "code",
   "execution_count": 29,
   "metadata": {},
   "outputs": [
    {
     "data": {
      "text/plain": [
       "array([0.16666728, 0.08021614, 0.0684483 , 0.03637013, 0.03279828,\n",
       "       0.02927629, 0.02384239, 0.02197467, 0.0211565 , 0.02089755])"
      ]
     },
     "execution_count": 29,
     "metadata": {},
     "output_type": "execute_result"
    }
   ],
   "source": [
    "feature_importances_rfi = model_rfi.feature_importances_[Feature_Selection_indices_rfi]\n",
    "feature_importances_rfi"
   ]
  },
  {
   "cell_type": "markdown",
   "metadata": {},
   "source": [
    "Random Forest Importance (RFI) select most important 10 features which is 'age', 'duration', 'campaign', 'housing','pdays_group_no_contacted', 'poutcome_success', 'previous','day_of_week_thu', 'day_of_week_tue',  'contact'. In the next few steps, we will search over 10, 20 and the full dataset to detect which number of features do the best with the classifier."
   ]
  },
  {
   "cell_type": "code",
   "execution_count": 30,
   "metadata": {},
   "outputs": [],
   "source": [
    "def plot_imp(best_features, scores, method_name, color):\n",
    "    \n",
    "    df = pd.DataFrame({'features': best_features, \n",
    "                       'importances': scores})\n",
    "    \n",
    "    chart = alt.Chart(df, \n",
    "                      width=500, \n",
    "                      title=method_name + ' Feature Importances'\n",
    "                     ).mark_bar(opacity=0.85, \n",
    "                                color=color).encode(\n",
    "        alt.X('features', title='Feature', sort=None, axis=alt.AxisConfig(labelAngle=45)),\n",
    "        alt.Y('importances', title='Importance')\n",
    "    )\n",
    "    \n",
    "    return chart"
   ]
  },
  {
   "cell_type": "code",
   "execution_count": 31,
   "metadata": {},
   "outputs": [
    {
     "data": {
      "text/html": [
       "\n",
       "<div id=\"altair-viz-54464fc828844c4da44c0ed11e11354a\"></div>\n",
       "<script type=\"text/javascript\">\n",
       "  (function(spec, embedOpt){\n",
       "    const outputDiv = document.getElementById(\"altair-viz-54464fc828844c4da44c0ed11e11354a\");\n",
       "    const paths = {\n",
       "      \"vega\": \"https://cdn.jsdelivr.net/npm//vega@5?noext\",\n",
       "      \"vega-lib\": \"https://cdn.jsdelivr.net/npm//vega-lib?noext\",\n",
       "      \"vega-lite\": \"https://cdn.jsdelivr.net/npm//vega-lite@4.0.2?noext\",\n",
       "      \"vega-embed\": \"https://cdn.jsdelivr.net/npm//vega-embed@6?noext\",\n",
       "    };\n",
       "\n",
       "    function loadScript(lib) {\n",
       "      return new Promise(function(resolve, reject) {\n",
       "        var s = document.createElement('script');\n",
       "        s.src = paths[lib];\n",
       "        s.async = true;\n",
       "        s.onload = () => resolve(paths[lib]);\n",
       "        s.onerror = () => reject(`Error loading script: ${paths[lib]}`);\n",
       "        document.getElementsByTagName(\"head\")[0].appendChild(s);\n",
       "      });\n",
       "    }\n",
       "\n",
       "    function showError(err) {\n",
       "      outputDiv.innerHTML = `<div class=\"error\" style=\"color:red;\">${err}</div>`;\n",
       "      throw err;\n",
       "    }\n",
       "\n",
       "    function displayChart(vegaEmbed) {\n",
       "      vegaEmbed(outputDiv, spec, embedOpt)\n",
       "        .catch(err => showError(`Javascript Error: ${err.message}<br>This usually means there's a typo in your chart specification. See the javascript console for the full traceback.`));\n",
       "    }\n",
       "\n",
       "    if(typeof define === \"function\" && define.amd) {\n",
       "      requirejs.config({paths});\n",
       "      require([\"vega-embed\"], displayChart, err => showError(`Error loading script: ${err.message}`));\n",
       "    } else if (typeof vegaEmbed === \"function\") {\n",
       "      displayChart(vegaEmbed);\n",
       "    } else {\n",
       "      loadScript(\"vega\")\n",
       "        .then(() => loadScript(\"vega-lite\"))\n",
       "        .then(() => loadScript(\"vega-embed\"))\n",
       "        .catch(showError)\n",
       "        .then(() => displayChart(vegaEmbed));\n",
       "    }\n",
       "  })({\"config\": {\"view\": {\"continuousWidth\": 400, \"continuousHeight\": 300}}, \"data\": {\"name\": \"data-e52f8d1fe41bb3fe32c173e570a36afa\"}, \"mark\": {\"type\": \"bar\", \"color\": \"green\", \"opacity\": 0.85}, \"encoding\": {\"x\": {\"type\": \"nominal\", \"axis\": {\"labelAngle\": 45}, \"field\": \"features\", \"sort\": null, \"title\": \"Feature\"}, \"y\": {\"type\": \"quantitative\", \"field\": \"importances\", \"title\": \"Importance\"}}, \"title\": \"Random Forest Feature Importances\", \"width\": 500, \"$schema\": \"https://vega.github.io/schema/vega-lite/v4.0.2.json\", \"datasets\": {\"data-e52f8d1fe41bb3fe32c173e570a36afa\": [{\"features\": \"age\", \"importances\": 0.16666727935183165}, {\"features\": \"duration\", \"importances\": 0.08021614295319812}, {\"features\": \"campaign\", \"importances\": 0.06844830208979581}, {\"features\": \"pdays_group_no_contacted\", \"importances\": 0.036370130373624285}, {\"features\": \"housing\", \"importances\": 0.03279827628129797}, {\"features\": \"poutcome_success\", \"importances\": 0.02927628701645211}, {\"features\": \"previous\", \"importances\": 0.023842389384959816}, {\"features\": \"month_jun\", \"importances\": 0.021974670381842743}, {\"features\": \"job_admin.\", \"importances\": 0.0211565046151877}, {\"features\": \"loan\", \"importances\": 0.020897546443980897}]}}, {\"mode\": \"vega-lite\"});\n",
       "</script>"
      ],
      "text/plain": [
       "alt.Chart(...)"
      ]
     },
     "execution_count": 31,
     "metadata": {},
     "output_type": "execute_result"
    }
   ],
   "source": [
    "plot_imp(best_features, feature_importances_rfi, 'Random Forest', 'green')"
   ]
  },
  {
   "cell_type": "markdown",
   "metadata": {},
   "source": [
    "<font size=\"5\" color='black'>Train-Test Splitting</font>"
   ]
  },
  {
   "cell_type": "markdown",
   "metadata": {},
   "source": [
    "Convert Pandas data frames to a NumPy array. "
   ]
  },
  {
   "cell_type": "code",
   "execution_count": 32,
   "metadata": {},
   "outputs": [
    {
     "name": "stdout",
     "output_type": "stream",
     "text": [
      "(4119, 53)\n",
      "(4119, 1)\n"
     ]
    }
   ],
   "source": [
    "Data_sample = pd.DataFrame(Data).values\n",
    "target_sample = pd.DataFrame(target).values\n",
    "\n",
    "print(Data_sample.shape)\n",
    "print(target_sample.shape)"
   ]
  },
  {
   "cell_type": "code",
   "execution_count": 33,
   "metadata": {},
   "outputs": [
    {
     "name": "stdout",
     "output_type": "stream",
     "text": [
      "(2883, 53)\n",
      "(1236, 53)\n"
     ]
    }
   ],
   "source": [
    "Data_sample_train, Data_sample_test, \\\n",
    "target_sample_train, target_sample_test = train_test_split(Data_sample, target_sample, \n",
    "                                                    test_size = 0.3, random_state=999,\n",
    "                                                    stratify = target_sample)\n",
    "\n",
    "print(Data_sample_train.shape)\n",
    "print(Data_sample_test.shape)"
   ]
  },
  {
   "cell_type": "markdown",
   "metadata": {},
   "source": [
    "<font size=\"5\" color='black'>Model Evaluation Strategy</font>"
   ]
  },
  {
   "cell_type": "markdown",
   "metadata": {},
   "source": [
    "For each model, we will use 5-fold stratified cross-validation evaluation method for hyperparameter tuning."
   ]
  },
  {
   "cell_type": "code",
   "execution_count": 34,
   "metadata": {},
   "outputs": [],
   "source": [
    "cv_method = StratifiedKFold(n_splits=5,random_state=999)"
   ]
  },
  {
   "cell_type": "markdown",
   "metadata": {},
   "source": [
    "<font size=\"5\" color='black'>Hyperparameter Tuning \n",
    "K-Nearest Neighbors (KNN)</font>"
   ]
  },
  {
   "cell_type": "code",
   "execution_count": 35,
   "metadata": {},
   "outputs": [],
   "source": [
    "# here we set n_estimators to100\n",
    "class RFIFeatureSelector(BaseEstimator, TransformerMixin):\n",
    "    def __init__(self, n_features_=10):\n",
    "        self.n_features_ = n_features_\n",
    "        self.fs_indices_ = None\n",
    "\n",
    "    # @override the fit function\n",
    "    def fit(self, X, y):\n",
    "        from sklearn.ensemble import RandomForestClassifier\n",
    "        from numpy import argsort\n",
    "        model_rfi = RandomForestClassifier(n_estimators=100)\n",
    "        model_rfi.fit(X, y)\n",
    "        self.fs_indices_ = argsort(model_rfi.feature_importances_)[::-1][0:self.n_features_] \n",
    "        return self \n",
    "    \n",
    "    # override the transform function\n",
    "    def transform(self, X, y=None):\n",
    "        return X[:, self.fs_indices_]"
   ]
  },
  {
   "cell_type": "code",
   "execution_count": 36,
   "metadata": {},
   "outputs": [],
   "source": [
    "pipe_KNN = Pipeline(steps=[('rfi_fs', RFIFeatureSelector()), \n",
    "                           ('knn', KNeighborsClassifier())])\n",
    "\n",
    "params_pipe_KNN = {'rfi_fs__n_features_': [10, 20, Data.shape[1]],\n",
    "                   'knn__n_neighbors': [1, 5, 10, 15, 20],\n",
    "                   'knn__p': [1, 2]}\n",
    "\n",
    "gs_pipe_KNN = GridSearchCV(estimator=pipe_KNN, \n",
    "                           param_grid=params_pipe_KNN, \n",
    "                           cv=cv_method,\n",
    "                           refit=True,\n",
    "                           n_jobs=-2,\n",
    "                           scoring='roc_auc',\n",
    "                           verbose=1) "
   ]
  },
  {
   "cell_type": "code",
   "execution_count": 37,
   "metadata": {},
   "outputs": [
    {
     "name": "stdout",
     "output_type": "stream",
     "text": [
      "Fitting 5 folds for each of 30 candidates, totalling 150 fits\n"
     ]
    },
    {
     "name": "stderr",
     "output_type": "stream",
     "text": [
      "[Parallel(n_jobs=-2)]: Using backend LokyBackend with 11 concurrent workers.\n",
      "[Parallel(n_jobs=-2)]: Done  28 tasks      | elapsed:    2.5s\n",
      "[Parallel(n_jobs=-2)]: Done 150 out of 150 | elapsed:    6.8s finished\n"
     ]
    }
   ],
   "source": [
    "gs_pipe_KNN.fit(Data_sample_train, target_sample_train);"
   ]
  },
  {
   "cell_type": "code",
   "execution_count": 1,
   "metadata": {},
   "outputs": [
    {
     "ename": "NameError",
     "evalue": "name 'gs_pipe_KNN' is not defined",
     "output_type": "error",
     "traceback": [
      "\u001b[0;31m---------------------------------------------------------------------------\u001b[0m",
      "\u001b[0;31mNameError\u001b[0m                                 Traceback (most recent call last)",
      "\u001b[0;32m<ipython-input-1-dd5e34c15dff>\u001b[0m in \u001b[0;36m<module>\u001b[0;34m\u001b[0m\n\u001b[0;32m----> 1\u001b[0;31m \u001b[0mgs_pipe_KNN\u001b[0m\u001b[0;34m.\u001b[0m\u001b[0mbest_params_\u001b[0m\u001b[0;34m\u001b[0m\u001b[0;34m\u001b[0m\u001b[0m\n\u001b[0m",
      "\u001b[0;31mNameError\u001b[0m: name 'gs_pipe_KNN' is not defined"
     ]
    }
   ],
   "source": [
    "gs_pipe_KNN.best_params_"
   ]
  },
  {
   "cell_type": "code",
   "execution_count": 39,
   "metadata": {},
   "outputs": [
    {
     "data": {
      "text/plain": [
       "0.664"
      ]
     },
     "execution_count": 39,
     "metadata": {},
     "output_type": "execute_result"
    }
   ],
   "source": [
    "gs_pipe_KNN.best_score_.round(3)"
   ]
  },
  {
   "cell_type": "markdown",
   "metadata": {},
   "source": [
    "We observe that the optimal KNN model has a mean AUC score of about 0.664. The best performing KNN selected 53 features with 20 nearest  neighbours and 𝑝=1 , which is the Manhattan distance. Now we will use other combination methods to see if the difference is rather significant or not."
   ]
  },
  {
   "cell_type": "code",
   "execution_count": 40,
   "metadata": {},
   "outputs": [],
   "source": [
    "# custom function to format the search results as a Pandas data frame\n",
    "def get_search_results(gs):\n",
    "\n",
    "    def model_result(scores, params):\n",
    "        scores = {'mean_score': np.mean(scores),\n",
    "             'std_score': np.std(scores),\n",
    "             'min_score': np.min(scores),\n",
    "             'max_score': np.max(scores)}\n",
    "        return pd.Series({**params,**scores})\n",
    "\n",
    "    models = []\n",
    "    scores = []\n",
    "\n",
    "    for i in range(gs.n_splits_):\n",
    "        key = f\"split{i}_test_score\"\n",
    "        r = gs.cv_results_[key]        \n",
    "        scores.append(r.reshape(-1,1))\n",
    "\n",
    "    all_scores = np.hstack(scores)\n",
    "    for p, s in zip(gs.cv_results_['params'], all_scores):\n",
    "        models.append((model_result(s, p)))\n",
    "\n",
    "    pipe_results = pd.concat(models, axis=1).T.sort_values(['mean_score'], ascending=False)\n",
    "\n",
    "    columns_first = ['mean_score', 'std_score', 'max_score', 'min_score']\n",
    "    columns = columns_first + [c for c in pipe_results.columns if c not in columns_first]\n",
    "\n",
    "    return pipe_results[columns]"
   ]
  },
  {
   "cell_type": "code",
   "execution_count": 41,
   "metadata": {},
   "outputs": [
    {
     "data": {
      "text/html": [
       "<div>\n",
       "<style scoped>\n",
       "    .dataframe tbody tr th:only-of-type {\n",
       "        vertical-align: middle;\n",
       "    }\n",
       "\n",
       "    .dataframe tbody tr th {\n",
       "        vertical-align: top;\n",
       "    }\n",
       "\n",
       "    .dataframe thead th {\n",
       "        text-align: right;\n",
       "    }\n",
       "</style>\n",
       "<table border=\"1\" class=\"dataframe\">\n",
       "  <thead>\n",
       "    <tr style=\"text-align: right;\">\n",
       "      <th></th>\n",
       "      <th>mean_score</th>\n",
       "      <th>std_score</th>\n",
       "      <th>max_score</th>\n",
       "      <th>min_score</th>\n",
       "      <th>knn__n_neighbors</th>\n",
       "      <th>knn__p</th>\n",
       "      <th>rfi_fs__n_features_</th>\n",
       "    </tr>\n",
       "  </thead>\n",
       "  <tbody>\n",
       "    <tr>\n",
       "      <th>26</th>\n",
       "      <td>0.663881</td>\n",
       "      <td>0.021064</td>\n",
       "      <td>0.693060</td>\n",
       "      <td>0.629831</td>\n",
       "      <td>20.0</td>\n",
       "      <td>1.0</td>\n",
       "      <td>53.0</td>\n",
       "    </tr>\n",
       "    <tr>\n",
       "      <th>25</th>\n",
       "      <td>0.655065</td>\n",
       "      <td>0.027884</td>\n",
       "      <td>0.700192</td>\n",
       "      <td>0.615257</td>\n",
       "      <td>20.0</td>\n",
       "      <td>1.0</td>\n",
       "      <td>20.0</td>\n",
       "    </tr>\n",
       "    <tr>\n",
       "      <th>24</th>\n",
       "      <td>0.649871</td>\n",
       "      <td>0.016184</td>\n",
       "      <td>0.671153</td>\n",
       "      <td>0.630357</td>\n",
       "      <td>20.0</td>\n",
       "      <td>1.0</td>\n",
       "      <td>10.0</td>\n",
       "    </tr>\n",
       "    <tr>\n",
       "      <th>20</th>\n",
       "      <td>0.648850</td>\n",
       "      <td>0.030069</td>\n",
       "      <td>0.693710</td>\n",
       "      <td>0.600189</td>\n",
       "      <td>15.0</td>\n",
       "      <td>1.0</td>\n",
       "      <td>53.0</td>\n",
       "    </tr>\n",
       "    <tr>\n",
       "      <th>18</th>\n",
       "      <td>0.646225</td>\n",
       "      <td>0.031693</td>\n",
       "      <td>0.699032</td>\n",
       "      <td>0.616402</td>\n",
       "      <td>15.0</td>\n",
       "      <td>1.0</td>\n",
       "      <td>10.0</td>\n",
       "    </tr>\n",
       "  </tbody>\n",
       "</table>\n",
       "</div>"
      ],
      "text/plain": [
       "    mean_score  std_score  max_score  min_score  knn__n_neighbors  knn__p  \\\n",
       "26    0.663881   0.021064   0.693060   0.629831              20.0     1.0   \n",
       "25    0.655065   0.027884   0.700192   0.615257              20.0     1.0   \n",
       "24    0.649871   0.016184   0.671153   0.630357              20.0     1.0   \n",
       "20    0.648850   0.030069   0.693710   0.600189              15.0     1.0   \n",
       "18    0.646225   0.031693   0.699032   0.616402              15.0     1.0   \n",
       "\n",
       "    rfi_fs__n_features_  \n",
       "26                 53.0  \n",
       "25                 20.0  \n",
       "24                 10.0  \n",
       "20                 53.0  \n",
       "18                 10.0  "
      ]
     },
     "execution_count": 41,
     "metadata": {},
     "output_type": "execute_result"
    }
   ],
   "source": [
    "results_KNN = get_search_results(gs_pipe_KNN)\n",
    "results_KNN.head()"
   ]
  },
  {
   "cell_type": "markdown",
   "metadata": {},
   "source": [
    "We observe that the difference between the hyperparameter combinations is not really much when conditioned on the number of features selected. Let's visualize the results of the grid search corresponding to 53 selected features."
   ]
  },
  {
   "cell_type": "code",
   "execution_count": 42,
   "metadata": {},
   "outputs": [
    {
     "data": {
      "text/html": [
       "\n",
       "<div id=\"altair-viz-bf860af6a029411a940d54983912ae8d\"></div>\n",
       "<script type=\"text/javascript\">\n",
       "  (function(spec, embedOpt){\n",
       "    const outputDiv = document.getElementById(\"altair-viz-bf860af6a029411a940d54983912ae8d\");\n",
       "    const paths = {\n",
       "      \"vega\": \"https://cdn.jsdelivr.net/npm//vega@5?noext\",\n",
       "      \"vega-lib\": \"https://cdn.jsdelivr.net/npm//vega-lib?noext\",\n",
       "      \"vega-lite\": \"https://cdn.jsdelivr.net/npm//vega-lite@4.0.2?noext\",\n",
       "      \"vega-embed\": \"https://cdn.jsdelivr.net/npm//vega-embed@6?noext\",\n",
       "    };\n",
       "\n",
       "    function loadScript(lib) {\n",
       "      return new Promise(function(resolve, reject) {\n",
       "        var s = document.createElement('script');\n",
       "        s.src = paths[lib];\n",
       "        s.async = true;\n",
       "        s.onload = () => resolve(paths[lib]);\n",
       "        s.onerror = () => reject(`Error loading script: ${paths[lib]}`);\n",
       "        document.getElementsByTagName(\"head\")[0].appendChild(s);\n",
       "      });\n",
       "    }\n",
       "\n",
       "    function showError(err) {\n",
       "      outputDiv.innerHTML = `<div class=\"error\" style=\"color:red;\">${err}</div>`;\n",
       "      throw err;\n",
       "    }\n",
       "\n",
       "    function displayChart(vegaEmbed) {\n",
       "      vegaEmbed(outputDiv, spec, embedOpt)\n",
       "        .catch(err => showError(`Javascript Error: ${err.message}<br>This usually means there's a typo in your chart specification. See the javascript console for the full traceback.`));\n",
       "    }\n",
       "\n",
       "    if(typeof define === \"function\" && define.amd) {\n",
       "      requirejs.config({paths});\n",
       "      require([\"vega-embed\"], displayChart, err => showError(`Error loading script: ${err.message}`));\n",
       "    } else if (typeof vegaEmbed === \"function\") {\n",
       "      displayChart(vegaEmbed);\n",
       "    } else {\n",
       "      loadScript(\"vega\")\n",
       "        .then(() => loadScript(\"vega-lite\"))\n",
       "        .then(() => loadScript(\"vega-embed\"))\n",
       "        .catch(showError)\n",
       "        .then(() => displayChart(vegaEmbed));\n",
       "    }\n",
       "  })({\"config\": {\"view\": {\"continuousWidth\": 400, \"continuousHeight\": 300}}, \"data\": {\"name\": \"data-f8b3c519a97f67e5aeec2c781b94f885\"}, \"mark\": {\"type\": \"line\", \"point\": true}, \"encoding\": {\"color\": {\"type\": \"nominal\", \"field\": \"knn__p\", \"title\": \"p\"}, \"x\": {\"type\": \"quantitative\", \"field\": \"knn__n_neighbors\", \"title\": \"Number of Neighbors\"}, \"y\": {\"type\": \"quantitative\", \"field\": \"mean_score\", \"scale\": {\"zero\": false}, \"title\": \"AUC Score\"}}, \"title\": \"KNN Performance Comparison with 53 Features\", \"$schema\": \"https://vega.github.io/schema/vega-lite/v4.0.2.json\", \"datasets\": {\"data-f8b3c519a97f67e5aeec2c781b94f885\": [{\"mean_score\": 0.663880936977899, \"std_score\": 0.021063684135032984, \"max_score\": 0.6930598100188744, \"min_score\": 0.6298307497137906, \"knn__n_neighbors\": 20.0, \"knn__p\": 1.0, \"rfi_fs__n_features_\": 53.0}, {\"mean_score\": 0.6488497062524086, \"std_score\": 0.030069086367146503, \"max_score\": 0.6937095825984716, \"min_score\": 0.6001887434635972, \"knn__n_neighbors\": 15.0, \"knn__p\": 1.0, \"rfi_fs__n_features_\": 53.0}, {\"mean_score\": 0.6424751923741294, \"std_score\": 0.037300800573856464, \"max_score\": 0.6913270831399486, \"min_score\": 0.5795971410006497, \"knn__n_neighbors\": 10.0, \"knn__p\": 1.0, \"rfi_fs__n_features_\": 53.0}, {\"mean_score\": 0.6343073118761199, \"std_score\": 0.015009164876876212, \"max_score\": 0.6537116974708171, \"min_score\": 0.6104768093072187, \"knn__n_neighbors\": 20.0, \"knn__p\": 2.0, \"rfi_fs__n_features_\": 53.0}, {\"mean_score\": 0.6254843148532209, \"std_score\": 0.011894623895386432, \"max_score\": 0.6452152237354085, \"min_score\": 0.6085429623441319, \"knn__n_neighbors\": 15.0, \"knn__p\": 2.0, \"rfi_fs__n_features_\": 53.0}, {\"mean_score\": 0.619608112703969, \"std_score\": 0.039444343863288614, \"max_score\": 0.664175871778211, \"min_score\": 0.5471085120207927, \"knn__n_neighbors\": 5.0, \"knn__p\": 1.0, \"rfi_fs__n_features_\": 53.0}, {\"mean_score\": 0.6190329922606692, \"std_score\": 0.023013812674505297, \"max_score\": 0.649772579597141, \"min_score\": 0.5956712769578266, \"knn__n_neighbors\": 10.0, \"knn__p\": 2.0, \"rfi_fs__n_features_\": 53.0}, {\"mean_score\": 0.6125362885065803, \"std_score\": 0.026204736740509525, \"max_score\": 0.6565333085800923, \"min_score\": 0.5849036170673598, \"knn__n_neighbors\": 5.0, \"knn__p\": 2.0, \"rfi_fs__n_features_\": 53.0}, {\"mean_score\": 0.5497096594030472, \"std_score\": 0.02031065935254653, \"max_score\": 0.588833194096352, \"min_score\": 0.531328320802005, \"knn__n_neighbors\": 1.0, \"knn__p\": 2.0, \"rfi_fs__n_features_\": 53.0}, {\"mean_score\": 0.5480395859677294, \"std_score\": 0.01789731504290027, \"max_score\": 0.5663640293990488, \"min_score\": 0.5178223336118073, \"knn__n_neighbors\": 1.0, \"knn__p\": 1.0, \"rfi_fs__n_features_\": 53.0}]}}, {\"mode\": \"vega-lite\"});\n",
       "</script>"
      ],
      "text/plain": [
       "alt.Chart(...)"
      ]
     },
     "execution_count": 42,
     "metadata": {},
     "output_type": "execute_result"
    }
   ],
   "source": [
    "results_KNN_53_features = results_KNN[results_KNN['rfi_fs__n_features_'] == 53.0]\n",
    "\n",
    "alt.Chart(results_KNN_53_features, \n",
    "          title='KNN Performance Comparison with 53 Features'\n",
    "         ).mark_line(point=True).encode(\n",
    "    alt.X('knn__n_neighbors', title='Number of Neighbors'),\n",
    "    alt.Y('mean_score', title='AUC Score', scale=alt.Scale(zero=False)),\n",
    "    alt.Color('knn__p:N', title='p')\n",
    ")"
   ]
  },
  {
   "cell_type": "markdown",
   "metadata": {},
   "source": [
    "<font size=\"5\" color='black'>(Gaussian) Naive Bayes (NB)</font>"
   ]
  },
  {
   "cell_type": "markdown",
   "metadata": {},
   "source": [
    "Now let's talk about Gaussian Naive Bayes. The default var_smoothing parameter's value is 10−9. We conduct the grid search in the logspace (over the powers of 10) sourced from NumPy.We perform a random search over only 20 different values for better efficiency. Since Naive Bayes requires each descriptive feature to follow a gaussian distribution, we first perform a power transformation on the original data set before model fitting."
   ]
  },
  {
   "cell_type": "code",
   "execution_count": 43,
   "metadata": {},
   "outputs": [
    {
     "name": "stdout",
     "output_type": "stream",
     "text": [
      "Fitting 5 folds for each of 20 candidates, totalling 100 fits\n"
     ]
    },
    {
     "name": "stderr",
     "output_type": "stream",
     "text": [
      "[Parallel(n_jobs=-2)]: Using backend LokyBackend with 11 concurrent workers.\n",
      "[Parallel(n_jobs=-2)]: Done  28 tasks      | elapsed:    1.1s\n",
      "[Parallel(n_jobs=-2)]: Done 100 out of 100 | elapsed:    3.7s finished\n"
     ]
    }
   ],
   "source": [
    "Data_sample_train_transformed = PowerTransformer().fit_transform(Data_sample_train)\n",
    "pipe_NB = Pipeline([('rfi_fs', RFIFeatureSelector()), \n",
    "                     ('nb', GaussianNB())])\n",
    "\n",
    "params_pipe_NB = {'rfi_fs__n_features_': [10, 20, Data.shape[1]],\n",
    "                  'nb__var_smoothing': np.logspace(1,-3, num=200)}\n",
    "\n",
    "n_iter_search = 20\n",
    "gs_pipe_NB = RandomizedSearchCV(estimator=pipe_NB, \n",
    "                          param_distributions=params_pipe_NB, \n",
    "                          cv=cv_method,\n",
    "                          refit=True,\n",
    "                          n_jobs=-2,\n",
    "                          scoring='roc_auc',\n",
    "                          n_iter=n_iter_search,\n",
    "                          verbose=1) \n",
    "\n",
    "gs_pipe_NB.fit(Data_sample_train_transformed, target_sample_train);"
   ]
  },
  {
   "cell_type": "code",
   "execution_count": 44,
   "metadata": {},
   "outputs": [
    {
     "data": {
      "text/plain": [
       "{'rfi_fs__n_features_': 20, 'nb__var_smoothing': 0.10718913192051276}"
      ]
     },
     "execution_count": 44,
     "metadata": {},
     "output_type": "execute_result"
    }
   ],
   "source": [
    "gs_pipe_NB.best_params_"
   ]
  },
  {
   "cell_type": "code",
   "execution_count": 45,
   "metadata": {},
   "outputs": [
    {
     "data": {
      "text/plain": [
       "0.755"
      ]
     },
     "execution_count": 45,
     "metadata": {},
     "output_type": "execute_result"
    }
   ],
   "source": [
    "gs_pipe_NB.best_score_.round(3)"
   ]
  },
  {
   "cell_type": "markdown",
   "metadata": {},
   "source": [
    "The optimal Naive Bayes yiels an AUC score of about 0.754 with 20 features - slightly higher than that of KNN which is 0.674. At this point, we cannot conclude NB is better than KNN. For this result, we will have to perform a paired t-test on the test data as discussed further below."
   ]
  },
  {
   "cell_type": "code",
   "execution_count": 46,
   "metadata": {},
   "outputs": [
    {
     "data": {
      "text/html": [
       "<div>\n",
       "<style scoped>\n",
       "    .dataframe tbody tr th:only-of-type {\n",
       "        vertical-align: middle;\n",
       "    }\n",
       "\n",
       "    .dataframe tbody tr th {\n",
       "        vertical-align: top;\n",
       "    }\n",
       "\n",
       "    .dataframe thead th {\n",
       "        text-align: right;\n",
       "    }\n",
       "</style>\n",
       "<table border=\"1\" class=\"dataframe\">\n",
       "  <thead>\n",
       "    <tr style=\"text-align: right;\">\n",
       "      <th></th>\n",
       "      <th>mean_score</th>\n",
       "      <th>std_score</th>\n",
       "      <th>max_score</th>\n",
       "      <th>min_score</th>\n",
       "      <th>rfi_fs__n_features_</th>\n",
       "      <th>nb__var_smoothing</th>\n",
       "    </tr>\n",
       "  </thead>\n",
       "  <tbody>\n",
       "    <tr>\n",
       "      <th>1</th>\n",
       "      <td>0.755111</td>\n",
       "      <td>0.019751</td>\n",
       "      <td>0.780516</td>\n",
       "      <td>0.724587</td>\n",
       "      <td>20.0</td>\n",
       "      <td>0.107189</td>\n",
       "    </tr>\n",
       "    <tr>\n",
       "      <th>16</th>\n",
       "      <td>0.752867</td>\n",
       "      <td>0.015798</td>\n",
       "      <td>0.769037</td>\n",
       "      <td>0.723583</td>\n",
       "      <td>20.0</td>\n",
       "      <td>0.013355</td>\n",
       "    </tr>\n",
       "    <tr>\n",
       "      <th>11</th>\n",
       "      <td>0.752202</td>\n",
       "      <td>0.014527</td>\n",
       "      <td>0.764457</td>\n",
       "      <td>0.724313</td>\n",
       "      <td>20.0</td>\n",
       "      <td>0.038720</td>\n",
       "    </tr>\n",
       "    <tr>\n",
       "      <th>5</th>\n",
       "      <td>0.749254</td>\n",
       "      <td>0.012625</td>\n",
       "      <td>0.763251</td>\n",
       "      <td>0.726593</td>\n",
       "      <td>20.0</td>\n",
       "      <td>0.061510</td>\n",
       "    </tr>\n",
       "    <tr>\n",
       "      <th>9</th>\n",
       "      <td>0.748677</td>\n",
       "      <td>0.015695</td>\n",
       "      <td>0.769021</td>\n",
       "      <td>0.722367</td>\n",
       "      <td>20.0</td>\n",
       "      <td>1.035322</td>\n",
       "    </tr>\n",
       "  </tbody>\n",
       "</table>\n",
       "</div>"
      ],
      "text/plain": [
       "    mean_score  std_score  max_score  min_score  rfi_fs__n_features_  \\\n",
       "1     0.755111   0.019751   0.780516   0.724587                 20.0   \n",
       "16    0.752867   0.015798   0.769037   0.723583                 20.0   \n",
       "11    0.752202   0.014527   0.764457   0.724313                 20.0   \n",
       "5     0.749254   0.012625   0.763251   0.726593                 20.0   \n",
       "9     0.748677   0.015695   0.769021   0.722367                 20.0   \n",
       "\n",
       "    nb__var_smoothing  \n",
       "1            0.107189  \n",
       "16           0.013355  \n",
       "11           0.038720  \n",
       "5            0.061510  \n",
       "9            1.035322  "
      ]
     },
     "execution_count": 46,
     "metadata": {},
     "output_type": "execute_result"
    }
   ],
   "source": [
    "results_NB = get_search_results(gs_pipe_NB)\n",
    "results_NB.head()"
   ]
  },
  {
   "cell_type": "code",
   "execution_count": 47,
   "metadata": {},
   "outputs": [
    {
     "data": {
      "text/html": [
       "\n",
       "<div id=\"altair-viz-77756f65703542908f49e45431f59f44\"></div>\n",
       "<script type=\"text/javascript\">\n",
       "  (function(spec, embedOpt){\n",
       "    const outputDiv = document.getElementById(\"altair-viz-77756f65703542908f49e45431f59f44\");\n",
       "    const paths = {\n",
       "      \"vega\": \"https://cdn.jsdelivr.net/npm//vega@5?noext\",\n",
       "      \"vega-lib\": \"https://cdn.jsdelivr.net/npm//vega-lib?noext\",\n",
       "      \"vega-lite\": \"https://cdn.jsdelivr.net/npm//vega-lite@4.0.2?noext\",\n",
       "      \"vega-embed\": \"https://cdn.jsdelivr.net/npm//vega-embed@6?noext\",\n",
       "    };\n",
       "\n",
       "    function loadScript(lib) {\n",
       "      return new Promise(function(resolve, reject) {\n",
       "        var s = document.createElement('script');\n",
       "        s.src = paths[lib];\n",
       "        s.async = true;\n",
       "        s.onload = () => resolve(paths[lib]);\n",
       "        s.onerror = () => reject(`Error loading script: ${paths[lib]}`);\n",
       "        document.getElementsByTagName(\"head\")[0].appendChild(s);\n",
       "      });\n",
       "    }\n",
       "\n",
       "    function showError(err) {\n",
       "      outputDiv.innerHTML = `<div class=\"error\" style=\"color:red;\">${err}</div>`;\n",
       "      throw err;\n",
       "    }\n",
       "\n",
       "    function displayChart(vegaEmbed) {\n",
       "      vegaEmbed(outputDiv, spec, embedOpt)\n",
       "        .catch(err => showError(`Javascript Error: ${err.message}<br>This usually means there's a typo in your chart specification. See the javascript console for the full traceback.`));\n",
       "    }\n",
       "\n",
       "    if(typeof define === \"function\" && define.amd) {\n",
       "      requirejs.config({paths});\n",
       "      require([\"vega-embed\"], displayChart, err => showError(`Error loading script: ${err.message}`));\n",
       "    } else if (typeof vegaEmbed === \"function\") {\n",
       "      displayChart(vegaEmbed);\n",
       "    } else {\n",
       "      loadScript(\"vega\")\n",
       "        .then(() => loadScript(\"vega-lite\"))\n",
       "        .then(() => loadScript(\"vega-embed\"))\n",
       "        .catch(showError)\n",
       "        .then(() => displayChart(vegaEmbed));\n",
       "    }\n",
       "  })({\"config\": {\"view\": {\"continuousWidth\": 400, \"continuousHeight\": 300}}, \"data\": {\"name\": \"data-d152df8c23301f476b77a802c02e0823\"}, \"mark\": {\"type\": \"line\", \"point\": true}, \"encoding\": {\"x\": {\"type\": \"quantitative\", \"field\": \"nb__var_smoothing\", \"title\": \"Var. Smoothing\"}, \"y\": {\"type\": \"quantitative\", \"field\": \"mean_score\", \"scale\": {\"zero\": false}, \"title\": \"AUC Score\"}}, \"title\": \"NB Performance Comparison with 20 Features\", \"$schema\": \"https://vega.github.io/schema/vega-lite/v4.0.2.json\", \"datasets\": {\"data-d152df8c23301f476b77a802c02e0823\": [{\"mean_score\": 0.7551109791881345, \"std_score\": 0.01975108294073454, \"max_score\": 0.7805161050775086, \"min_score\": 0.7245865758754864, \"rfi_fs__n_features_\": 20.0, \"nb__var_smoothing\": 0.10718913192051276}, {\"mean_score\": 0.7528673858124317, \"std_score\": 0.01579793682320007, \"max_score\": 0.7690367895046257, \"min_score\": 0.7235834143968873, \"rfi_fs__n_features_\": 20.0, \"nb__var_smoothing\": 0.013354515629298987}, {\"mean_score\": 0.7522017827766444, \"std_score\": 0.014527376944440782, \"max_score\": 0.7644574398960363, \"min_score\": 0.7243129863813229, \"rfi_fs__n_features_\": 20.0, \"nb__var_smoothing\": 0.038720387818125535}, {\"mean_score\": 0.7492544594811956, \"std_score\": 0.012625454354460552, \"max_score\": 0.7632507193910703, \"min_score\": 0.7265928988326849, \"rfi_fs__n_features_\": 20.0, \"nb__var_smoothing\": 0.06150985788580498}, {\"mean_score\": 0.7486769320756494, \"std_score\": 0.015695200965887248, \"max_score\": 0.769021318728921, \"min_score\": 0.7223674610894942, \"rfi_fs__n_features_\": 20.0, \"nb__var_smoothing\": 1.0353218432956621}, {\"mean_score\": 0.7486046440108293, \"std_score\": 0.01693990266569399, \"max_score\": 0.7727497756737522, \"min_score\": 0.7218506809338521, \"rfi_fs__n_features_\": 20.0, \"nb__var_smoothing\": 0.4713753134116724}]}}, {\"mode\": \"vega-lite\"});\n",
       "</script>"
      ],
      "text/plain": [
       "alt.Chart(...)"
      ]
     },
     "execution_count": 47,
     "metadata": {},
     "output_type": "execute_result"
    }
   ],
   "source": [
    "results_NB_20_features = results_NB[results_NB['rfi_fs__n_features_'] == 20.0]\n",
    "\n",
    "alt.Chart(results_NB_20_features, \n",
    "          title='NB Performance Comparison with 20 Features'\n",
    "         ).mark_line(point=True).encode(\n",
    "    alt.X('nb__var_smoothing', title='Var. Smoothing'),\n",
    "    alt.Y('mean_score', title='AUC Score', scale=alt.Scale(zero=False))\n",
    ")"
   ]
  },
  {
   "cell_type": "markdown",
   "metadata": {},
   "source": [
    "<font size=\"5\" color='black'>Decision Trees (DT)</font>"
   ]
  },
  {
   "cell_type": "markdown",
   "metadata": {},
   "source": [
    "Now we build decision trees using Gini index to get maximum information gain. We aim to determine the optimal combinations of maximum depth (max_depth) and minimum sample split (min_samples_split)."
   ]
  },
  {
   "cell_type": "code",
   "execution_count": 48,
   "metadata": {},
   "outputs": [
    {
     "name": "stdout",
     "output_type": "stream",
     "text": [
      "Fitting 5 folds for each of 18 candidates, totalling 90 fits\n"
     ]
    },
    {
     "name": "stderr",
     "output_type": "stream",
     "text": [
      "[Parallel(n_jobs=-2)]: Using backend LokyBackend with 11 concurrent workers.\n",
      "[Parallel(n_jobs=-2)]: Done  28 tasks      | elapsed:    0.9s\n",
      "[Parallel(n_jobs=-2)]: Done  90 out of  90 | elapsed:    2.7s finished\n"
     ]
    }
   ],
   "source": [
    "pipe_DT = Pipeline([('rfi_fs', RFIFeatureSelector()),\n",
    "                    ('dt', DecisionTreeClassifier(criterion='gini', random_state=999))])\n",
    "\n",
    "params_pipe_DT = {'rfi_fs__n_features_': [10, 20, Data.shape[1]],\n",
    "                  'dt__max_depth': [3, 4, 5],\n",
    "                  'dt__min_samples_split': [2, 5]}\n",
    "\n",
    "gs_pipe_DT = GridSearchCV(estimator=pipe_DT, \n",
    "                          param_grid=params_pipe_DT, \n",
    "                          cv=cv_method,\n",
    "                          refit=True,\n",
    "                          n_jobs=-2,\n",
    "                          scoring='roc_auc',\n",
    "                          verbose=1) \n",
    "\n",
    "gs_pipe_DT.fit(Data_sample_train, target_sample_train);"
   ]
  },
  {
   "cell_type": "code",
   "execution_count": 49,
   "metadata": {},
   "outputs": [
    {
     "data": {
      "text/plain": [
       "{'dt__max_depth': 5, 'dt__min_samples_split': 2, 'rfi_fs__n_features_': 10}"
      ]
     },
     "execution_count": 49,
     "metadata": {},
     "output_type": "execute_result"
    }
   ],
   "source": [
    "gs_pipe_DT.best_params_"
   ]
  },
  {
   "cell_type": "code",
   "execution_count": 50,
   "metadata": {},
   "outputs": [
    {
     "data": {
      "text/plain": [
       "0.722"
      ]
     },
     "execution_count": 50,
     "metadata": {},
     "output_type": "execute_result"
    }
   ],
   "source": [
    "gs_pipe_DT.best_score_.round(3)"
   ]
  },
  {
   "cell_type": "markdown",
   "metadata": {},
   "source": [
    "The best DT has a maximum depth of 5 and minimum split value of 5 samples with an AUC score of about 0.733. A visualization of the search results is given below for 10 features."
   ]
  },
  {
   "cell_type": "code",
   "execution_count": 51,
   "metadata": {},
   "outputs": [
    {
     "data": {
      "text/html": [
       "\n",
       "<div id=\"altair-viz-0ab140f8d69b4cd8b18a99aacdd1e51a\"></div>\n",
       "<script type=\"text/javascript\">\n",
       "  (function(spec, embedOpt){\n",
       "    const outputDiv = document.getElementById(\"altair-viz-0ab140f8d69b4cd8b18a99aacdd1e51a\");\n",
       "    const paths = {\n",
       "      \"vega\": \"https://cdn.jsdelivr.net/npm//vega@5?noext\",\n",
       "      \"vega-lib\": \"https://cdn.jsdelivr.net/npm//vega-lib?noext\",\n",
       "      \"vega-lite\": \"https://cdn.jsdelivr.net/npm//vega-lite@4.0.2?noext\",\n",
       "      \"vega-embed\": \"https://cdn.jsdelivr.net/npm//vega-embed@6?noext\",\n",
       "    };\n",
       "\n",
       "    function loadScript(lib) {\n",
       "      return new Promise(function(resolve, reject) {\n",
       "        var s = document.createElement('script');\n",
       "        s.src = paths[lib];\n",
       "        s.async = true;\n",
       "        s.onload = () => resolve(paths[lib]);\n",
       "        s.onerror = () => reject(`Error loading script: ${paths[lib]}`);\n",
       "        document.getElementsByTagName(\"head\")[0].appendChild(s);\n",
       "      });\n",
       "    }\n",
       "\n",
       "    function showError(err) {\n",
       "      outputDiv.innerHTML = `<div class=\"error\" style=\"color:red;\">${err}</div>`;\n",
       "      throw err;\n",
       "    }\n",
       "\n",
       "    function displayChart(vegaEmbed) {\n",
       "      vegaEmbed(outputDiv, spec, embedOpt)\n",
       "        .catch(err => showError(`Javascript Error: ${err.message}<br>This usually means there's a typo in your chart specification. See the javascript console for the full traceback.`));\n",
       "    }\n",
       "\n",
       "    if(typeof define === \"function\" && define.amd) {\n",
       "      requirejs.config({paths});\n",
       "      require([\"vega-embed\"], displayChart, err => showError(`Error loading script: ${err.message}`));\n",
       "    } else if (typeof vegaEmbed === \"function\") {\n",
       "      displayChart(vegaEmbed);\n",
       "    } else {\n",
       "      loadScript(\"vega\")\n",
       "        .then(() => loadScript(\"vega-lite\"))\n",
       "        .then(() => loadScript(\"vega-embed\"))\n",
       "        .catch(showError)\n",
       "        .then(() => displayChart(vegaEmbed));\n",
       "    }\n",
       "  })({\"config\": {\"view\": {\"continuousWidth\": 400, \"continuousHeight\": 300}}, \"data\": {\"name\": \"data-67f7d7ae66850cc48a66424bbf11ff17\"}, \"mark\": {\"type\": \"line\", \"point\": true}, \"encoding\": {\"color\": {\"type\": \"nominal\", \"field\": \"dt__max_depth\", \"title\": \"Max Depth\"}, \"x\": {\"type\": \"quantitative\", \"field\": \"dt__min_samples_split\", \"title\": \"Min Samples for Split\"}, \"y\": {\"type\": \"quantitative\", \"field\": \"mean_score\", \"scale\": {\"zero\": false}, \"title\": \"AUC Score\"}}, \"title\": \"DT Performance Comparison with 20 Features\", \"$schema\": \"https://vega.github.io/schema/vega-lite/v4.0.2.json\", \"datasets\": {\"data-67f7d7ae66850cc48a66424bbf11ff17\": [{\"mean_score\": 0.7213097898639751, \"std_score\": 0.025530915351445437, \"max_score\": 0.7520189362294625, \"min_score\": 0.6750516780155642, \"dt__max_depth\": 5.0, \"dt__min_samples_split\": 2.0, \"rfi_fs__n_features_\": 20.0}, {\"mean_score\": 0.7183874415060204, \"std_score\": 0.017441123436504648, \"max_score\": 0.7505492125375166, \"min_score\": 0.7043998886104149, \"dt__max_depth\": 5.0, \"dt__min_samples_split\": 5.0, \"rfi_fs__n_features_\": 20.0}, {\"mean_score\": 0.7106365571999425, \"std_score\": 0.03978086040581311, \"max_score\": 0.7570159967820786, \"min_score\": 0.6378739056420234, \"dt__max_depth\": 4.0, \"dt__min_samples_split\": 5.0, \"rfi_fs__n_features_\": 20.0}, {\"mean_score\": 0.7095942556370209, \"std_score\": 0.024494324692391434, \"max_score\": 0.7513072805470468, \"min_score\": 0.6755988570038911, \"dt__max_depth\": 3.0, \"dt__min_samples_split\": 2.0, \"rfi_fs__n_features_\": 20.0}, {\"mean_score\": 0.7049705566908816, \"std_score\": 0.025135233417216397, \"max_score\": 0.7513072805470468, \"min_score\": 0.6758876459143969, \"dt__max_depth\": 3.0, \"dt__min_samples_split\": 5.0, \"rfi_fs__n_features_\": 20.0}, {\"mean_score\": 0.7040140804036982, \"std_score\": 0.0501313151531598, \"max_score\": 0.757557473931743, \"min_score\": 0.6102413667315175, \"dt__max_depth\": 4.0, \"dt__min_samples_split\": 2.0, \"rfi_fs__n_features_\": 20.0}]}}, {\"mode\": \"vega-lite\"});\n",
       "</script>"
      ],
      "text/plain": [
       "alt.Chart(...)"
      ]
     },
     "execution_count": 51,
     "metadata": {},
     "output_type": "execute_result"
    }
   ],
   "source": [
    "results_DT = get_search_results(gs_pipe_DT)\n",
    "\n",
    "results_DT_10_features = results_DT[results_DT['rfi_fs__n_features_'] == 20.0]\n",
    "\n",
    "alt.Chart(results_DT_10_features, \n",
    "          title='DT Performance Comparison with 20 Features'\n",
    "         ).mark_line(point=True).encode(\n",
    "    alt.X('dt__min_samples_split', title='Min Samples for Split'),\n",
    "    alt.Y('mean_score', title='AUC Score', scale=alt.Scale(zero=False)),\n",
    "    alt.Color('dt__max_depth:N', title='Max Depth')\n",
    ")"
   ]
  },
  {
   "cell_type": "markdown",
   "metadata": {},
   "source": [
    "<font size=\"5\" color='black'>Further Fine Tuning</font>"
   ]
  },
  {
   "cell_type": "markdown",
   "metadata": {},
   "source": [
    "We notice that the optimal value of maximum depth hyperparameter appear to cross together and some of them at the extreme end of its search space. Now we need to make sure that we are not missing out on even better values."
   ]
  },
  {
   "cell_type": "code",
   "execution_count": 52,
   "metadata": {},
   "outputs": [
    {
     "name": "stdout",
     "output_type": "stream",
     "text": [
      "Fitting 5 folds for each of 12 candidates, totalling 60 fits\n"
     ]
    },
    {
     "name": "stderr",
     "output_type": "stream",
     "text": [
      "[Parallel(n_jobs=-2)]: Using backend LokyBackend with 11 concurrent workers.\n",
      "[Parallel(n_jobs=-2)]: Done  28 tasks      | elapsed:    1.0s\n",
      "[Parallel(n_jobs=-2)]: Done  60 out of  60 | elapsed:    1.9s finished\n"
     ]
    }
   ],
   "source": [
    "params_pipe_DT2 = {'rfi_fs__n_features_': [20],\n",
    "                  'dt__max_depth': [5, 10, 15],\n",
    "                  'dt__min_samples_split': [5, 50, 100, 150]}\n",
    "\n",
    "gs_pipe_DT2 = GridSearchCV(estimator=pipe_DT, \n",
    "                          param_grid=params_pipe_DT2, \n",
    "                          cv=cv_method,\n",
    "                          refit=True,\n",
    "                          n_jobs=-2,\n",
    "                          scoring='roc_auc',\n",
    "                          verbose=1) \n",
    "\n",
    "gs_pipe_DT2.fit(Data_sample_train, target_sample_train);"
   ]
  },
  {
   "cell_type": "code",
   "execution_count": 53,
   "metadata": {},
   "outputs": [
    {
     "data": {
      "text/plain": [
       "{'dt__max_depth': 10, 'dt__min_samples_split': 150, 'rfi_fs__n_features_': 20}"
      ]
     },
     "execution_count": 53,
     "metadata": {},
     "output_type": "execute_result"
    }
   ],
   "source": [
    "gs_pipe_DT2.best_params_"
   ]
  },
  {
   "cell_type": "code",
   "execution_count": 54,
   "metadata": {},
   "outputs": [
    {
     "data": {
      "text/plain": [
       "0.763"
      ]
     },
     "execution_count": 54,
     "metadata": {},
     "output_type": "execute_result"
    }
   ],
   "source": [
    "gs_pipe_DT2.best_score_.round(3)"
   ]
  },
  {
   "cell_type": "markdown",
   "metadata": {},
   "source": [
    "we get slightly better results with the new search space which is about 0.771, greater than 0.709. "
   ]
  },
  {
   "cell_type": "code",
   "execution_count": 55,
   "metadata": {},
   "outputs": [
    {
     "data": {
      "text/html": [
       "<div>\n",
       "<style scoped>\n",
       "    .dataframe tbody tr th:only-of-type {\n",
       "        vertical-align: middle;\n",
       "    }\n",
       "\n",
       "    .dataframe tbody tr th {\n",
       "        vertical-align: top;\n",
       "    }\n",
       "\n",
       "    .dataframe thead th {\n",
       "        text-align: right;\n",
       "    }\n",
       "</style>\n",
       "<table border=\"1\" class=\"dataframe\">\n",
       "  <thead>\n",
       "    <tr style=\"text-align: right;\">\n",
       "      <th></th>\n",
       "      <th>mean_score</th>\n",
       "      <th>std_score</th>\n",
       "      <th>max_score</th>\n",
       "      <th>min_score</th>\n",
       "      <th>dt__max_depth</th>\n",
       "      <th>dt__min_samples_split</th>\n",
       "      <th>rfi_fs__n_features_</th>\n",
       "    </tr>\n",
       "  </thead>\n",
       "  <tbody>\n",
       "    <tr>\n",
       "      <th>7</th>\n",
       "      <td>0.763115</td>\n",
       "      <td>0.050448</td>\n",
       "      <td>0.833596</td>\n",
       "      <td>0.697060</td>\n",
       "      <td>10.0</td>\n",
       "      <td>150.0</td>\n",
       "      <td>20.0</td>\n",
       "    </tr>\n",
       "    <tr>\n",
       "      <th>1</th>\n",
       "      <td>0.760201</td>\n",
       "      <td>0.022788</td>\n",
       "      <td>0.782295</td>\n",
       "      <td>0.718476</td>\n",
       "      <td>5.0</td>\n",
       "      <td>50.0</td>\n",
       "      <td>20.0</td>\n",
       "    </tr>\n",
       "    <tr>\n",
       "      <th>6</th>\n",
       "      <td>0.759108</td>\n",
       "      <td>0.049800</td>\n",
       "      <td>0.816393</td>\n",
       "      <td>0.691163</td>\n",
       "      <td>10.0</td>\n",
       "      <td>100.0</td>\n",
       "      <td>20.0</td>\n",
       "    </tr>\n",
       "    <tr>\n",
       "      <th>10</th>\n",
       "      <td>0.758695</td>\n",
       "      <td>0.050012</td>\n",
       "      <td>0.825412</td>\n",
       "      <td>0.698124</td>\n",
       "      <td>15.0</td>\n",
       "      <td>100.0</td>\n",
       "      <td>20.0</td>\n",
       "    </tr>\n",
       "    <tr>\n",
       "      <th>3</th>\n",
       "      <td>0.757417</td>\n",
       "      <td>0.027758</td>\n",
       "      <td>0.790990</td>\n",
       "      <td>0.714357</td>\n",
       "      <td>5.0</td>\n",
       "      <td>150.0</td>\n",
       "      <td>20.0</td>\n",
       "    </tr>\n",
       "  </tbody>\n",
       "</table>\n",
       "</div>"
      ],
      "text/plain": [
       "    mean_score  std_score  max_score  min_score  dt__max_depth  \\\n",
       "7     0.763115   0.050448   0.833596   0.697060           10.0   \n",
       "1     0.760201   0.022788   0.782295   0.718476            5.0   \n",
       "6     0.759108   0.049800   0.816393   0.691163           10.0   \n",
       "10    0.758695   0.050012   0.825412   0.698124           15.0   \n",
       "3     0.757417   0.027758   0.790990   0.714357            5.0   \n",
       "\n",
       "    dt__min_samples_split  rfi_fs__n_features_  \n",
       "7                   150.0                 20.0  \n",
       "1                    50.0                 20.0  \n",
       "6                   100.0                 20.0  \n",
       "10                  100.0                 20.0  \n",
       "3                   150.0                 20.0  "
      ]
     },
     "execution_count": 55,
     "metadata": {},
     "output_type": "execute_result"
    }
   ],
   "source": [
    "results_DT = get_search_results(gs_pipe_DT2)\n",
    "results_DT.head()"
   ]
  },
  {
   "cell_type": "code",
   "execution_count": 56,
   "metadata": {},
   "outputs": [
    {
     "data": {
      "text/html": [
       "\n",
       "<div id=\"altair-viz-e635451abbf24a19be8207341a8f8ea5\"></div>\n",
       "<script type=\"text/javascript\">\n",
       "  (function(spec, embedOpt){\n",
       "    const outputDiv = document.getElementById(\"altair-viz-e635451abbf24a19be8207341a8f8ea5\");\n",
       "    const paths = {\n",
       "      \"vega\": \"https://cdn.jsdelivr.net/npm//vega@5?noext\",\n",
       "      \"vega-lib\": \"https://cdn.jsdelivr.net/npm//vega-lib?noext\",\n",
       "      \"vega-lite\": \"https://cdn.jsdelivr.net/npm//vega-lite@4.0.2?noext\",\n",
       "      \"vega-embed\": \"https://cdn.jsdelivr.net/npm//vega-embed@6?noext\",\n",
       "    };\n",
       "\n",
       "    function loadScript(lib) {\n",
       "      return new Promise(function(resolve, reject) {\n",
       "        var s = document.createElement('script');\n",
       "        s.src = paths[lib];\n",
       "        s.async = true;\n",
       "        s.onload = () => resolve(paths[lib]);\n",
       "        s.onerror = () => reject(`Error loading script: ${paths[lib]}`);\n",
       "        document.getElementsByTagName(\"head\")[0].appendChild(s);\n",
       "      });\n",
       "    }\n",
       "\n",
       "    function showError(err) {\n",
       "      outputDiv.innerHTML = `<div class=\"error\" style=\"color:red;\">${err}</div>`;\n",
       "      throw err;\n",
       "    }\n",
       "\n",
       "    function displayChart(vegaEmbed) {\n",
       "      vegaEmbed(outputDiv, spec, embedOpt)\n",
       "        .catch(err => showError(`Javascript Error: ${err.message}<br>This usually means there's a typo in your chart specification. See the javascript console for the full traceback.`));\n",
       "    }\n",
       "\n",
       "    if(typeof define === \"function\" && define.amd) {\n",
       "      requirejs.config({paths});\n",
       "      require([\"vega-embed\"], displayChart, err => showError(`Error loading script: ${err.message}`));\n",
       "    } else if (typeof vegaEmbed === \"function\") {\n",
       "      displayChart(vegaEmbed);\n",
       "    } else {\n",
       "      loadScript(\"vega\")\n",
       "        .then(() => loadScript(\"vega-lite\"))\n",
       "        .then(() => loadScript(\"vega-embed\"))\n",
       "        .catch(showError)\n",
       "        .then(() => displayChart(vegaEmbed));\n",
       "    }\n",
       "  })({\"config\": {\"view\": {\"continuousWidth\": 400, \"continuousHeight\": 300}}, \"data\": {\"name\": \"data-fd1ce1e3a07ce700db00f2d754b1db34\"}, \"mark\": {\"type\": \"line\", \"point\": true}, \"encoding\": {\"color\": {\"type\": \"nominal\", \"field\": \"dt__max_depth\", \"title\": \"Max Depth\"}, \"x\": {\"type\": \"quantitative\", \"field\": \"dt__min_samples_split\", \"title\": \"Min Samples for Split\"}, \"y\": {\"type\": \"quantitative\", \"field\": \"mean_score\", \"scale\": {\"zero\": false}, \"title\": \"AUC Score\"}}, \"title\": \"DT Performance Comparison with 20 Features - Extended\", \"$schema\": \"https://vega.github.io/schema/vega-lite/v4.0.2.json\", \"datasets\": {\"data-fd1ce1e3a07ce700db00f2d754b1db34\": [{\"mean_score\": 0.7631153315740894, \"std_score\": 0.050448162669021725, \"max_score\": 0.8335963365203132, \"min_score\": 0.6970604328793775, \"dt__max_depth\": 10.0, \"dt__min_samples_split\": 150.0, \"rfi_fs__n_features_\": 20.0}, {\"mean_score\": 0.7602007276336227, \"std_score\": 0.02278766853163071, \"max_score\": 0.7822952442835482, \"min_score\": 0.7184764105058367, \"dt__max_depth\": 5.0, \"dt__min_samples_split\": 50.0, \"rfi_fs__n_features_\": 20.0}, {\"mean_score\": 0.759108286667424, \"std_score\": 0.049799926073306855, \"max_score\": 0.8163928339366935, \"min_score\": 0.6911630593385214, \"dt__max_depth\": 10.0, \"dt__min_samples_split\": 100.0, \"rfi_fs__n_features_\": 20.0}, {\"mean_score\": 0.7586948548300965, \"std_score\": 0.050012391843849646, \"max_score\": 0.8254122961725301, \"min_score\": 0.6981243920233463, \"dt__max_depth\": 15.0, \"dt__min_samples_split\": 100.0, \"rfi_fs__n_features_\": 20.0}, {\"mean_score\": 0.75741668770948, \"std_score\": 0.027758316702847126, \"max_score\": 0.7909898202295863, \"min_score\": 0.7143573686770428, \"dt__max_depth\": 5.0, \"dt__min_samples_split\": 150.0, \"rfi_fs__n_features_\": 20.0}, {\"mean_score\": 0.7552290109167392, \"std_score\": 0.05753145405900889, \"max_score\": 0.841687552213868, \"min_score\": 0.6919613849438411, \"dt__max_depth\": 15.0, \"dt__min_samples_split\": 150.0, \"rfi_fs__n_features_\": 20.0}, {\"mean_score\": 0.7545473713421398, \"std_score\": 0.0531493564072533, \"max_score\": 0.8284136266592407, \"min_score\": 0.6840649319066148, \"dt__max_depth\": 10.0, \"dt__min_samples_split\": 50.0, \"rfi_fs__n_features_\": 20.0}, {\"mean_score\": 0.7527042894298304, \"std_score\": 0.024066056731033826, \"max_score\": 0.7800210402549583, \"min_score\": 0.7143573686770428, \"dt__max_depth\": 5.0, \"dt__min_samples_split\": 100.0, \"rfi_fs__n_features_\": 20.0}, {\"mean_score\": 0.7383955089399111, \"std_score\": 0.04665235355204389, \"max_score\": 0.8087193291871654, \"min_score\": 0.6859040612840468, \"dt__max_depth\": 15.0, \"dt__min_samples_split\": 50.0, \"rfi_fs__n_features_\": 20.0}, {\"mean_score\": 0.709315096362616, \"std_score\": 0.02613765053340081, \"max_score\": 0.7320925771218169, \"min_score\": 0.660855423151751, \"dt__max_depth\": 5.0, \"dt__min_samples_split\": 5.0, \"rfi_fs__n_features_\": 20.0}, {\"mean_score\": 0.6904186308757796, \"std_score\": 0.0579236943212304, \"max_score\": 0.7579519486134272, \"min_score\": 0.6020761780995699, \"dt__max_depth\": 10.0, \"dt__min_samples_split\": 5.0, \"rfi_fs__n_features_\": 20.0}, {\"mean_score\": 0.6564619252659499, \"std_score\": 0.04676133641185047, \"max_score\": 0.7405657464023223, \"min_score\": 0.6077075404560784, \"dt__max_depth\": 15.0, \"dt__min_samples_split\": 5.0, \"rfi_fs__n_features_\": 20.0}]}}, {\"mode\": \"vega-lite\"});\n",
       "</script>"
      ],
      "text/plain": [
       "alt.Chart(...)"
      ]
     },
     "execution_count": 56,
     "metadata": {},
     "output_type": "execute_result"
    }
   ],
   "source": [
    "results_DT_20_features = results_DT[results_DT['rfi_fs__n_features_'] == 20.0]\n",
    "\n",
    "alt.Chart(results_DT_20_features, \n",
    "          title='DT Performance Comparison with 20 Features - Extended'\n",
    "         ).mark_line(point=True).encode(\n",
    "    alt.X('dt__min_samples_split', title='Min Samples for Split'),\n",
    "    alt.Y('mean_score', title='AUC Score', scale=alt.Scale(zero=False)),\n",
    "    alt.Color('dt__max_depth:N', title='Max Depth')\n",
    ")"
   ]
  },
  {
   "cell_type": "markdown",
   "metadata": {},
   "source": [
    "<font size=\"6\" color='black'>Performance Comparison</font><a id=\"6\"></a> "
   ]
  },
  {
   "cell_type": "markdown",
   "metadata": {},
   "source": [
    "\n",
    "During the hyperparameter tuning phase above, we used the 4119 rows in our training data within a cross-validation framework and we determined the best hyperparameter values for each of the three binary classifiers. For instance, for KNN, it turned out that the best set of hyperparameter values is  𝑘=20  and  p=Manhattan distance with the best 53 features as selected by the RFI feature selection method.\n",
    "\n",
    "What we would like to do now is to \"fit\" each tuned classifier with the best set of hyperparameter values on the 1236 rows in the test data set in a cross-validated fashion to figure out which tuned classifier performs the best. This way, we would be measuring performance of the tuned classifiers on data that they did not \"see\" previously.\n",
    "\n",
    "Since cross validation itself is a random process, we would like to perform pairwise t-tests to determine if any difference between the performance of any two (tuned) classifiers is statistically significant. Specifically, we first perform 10-fold stratified cross-validation (without any repetitions) on each (tuned) classifier where we use the same seed in each of the three cross-validation runs. Second, we conduct a paired t-test for the AUC score between the following (tuned) classifier combinations:"
   ]
  },
  {
   "cell_type": "markdown",
   "metadata": {},
   "source": [
    "<ol> \n",
    "    <li>KNN vs. NB,</li>\n",
    "      <li>KNN vs. DT, and</li>\n",
    "      <li>DT vs. NB.</li>\n",
    "    \n",
    "</ol>"
   ]
  },
  {
   "cell_type": "markdown",
   "metadata": {},
   "source": [
    "<font size=\"4\" color='black'>Discussion: cross-validation with paired t-tests</font>"
   ]
  },
  {
   "cell_type": "code",
   "execution_count": 57,
   "metadata": {},
   "outputs": [
    {
     "data": {
      "text/plain": [
       "0.6679589779589781"
      ]
     },
     "execution_count": 57,
     "metadata": {},
     "output_type": "execute_result"
    }
   ],
   "source": [
    "cv_method_ttest = StratifiedKFold(n_splits=10)\n",
    "\n",
    "cv_results_KNN = cross_val_score(estimator=gs_pipe_KNN.best_estimator_,\n",
    "                                 X=Data_sample_test,\n",
    "                                 y=target_sample_test, \n",
    "                                 cv=cv_method_ttest, \n",
    "                                 n_jobs=-2,\n",
    "                                 scoring='roc_auc')\n",
    "cv_results_KNN.mean()"
   ]
  },
  {
   "cell_type": "code",
   "execution_count": 58,
   "metadata": {},
   "outputs": [
    {
     "data": {
      "text/plain": [
       "0.728646781146781"
      ]
     },
     "execution_count": 58,
     "metadata": {},
     "output_type": "execute_result"
    }
   ],
   "source": [
    "Data_sample_test_transformed = PowerTransformer().fit_transform(Data_sample_test)\n",
    "\n",
    "cv_results_NB = cross_val_score(estimator=gs_pipe_NB.best_estimator_,\n",
    "                                X=Data_sample_test_transformed,\n",
    "                                y=target_sample_test, \n",
    "                                cv=cv_method_ttest, \n",
    "                                n_jobs=-2,\n",
    "                                scoring='roc_auc')\n",
    "cv_results_NB.mean()"
   ]
  },
  {
   "cell_type": "code",
   "execution_count": 59,
   "metadata": {},
   "outputs": [
    {
     "data": {
      "text/plain": [
       "0.7454143154143155"
      ]
     },
     "execution_count": 59,
     "metadata": {},
     "output_type": "execute_result"
    }
   ],
   "source": [
    "cv_results_DT = cross_val_score(estimator=gs_pipe_DT2.best_estimator_,\n",
    "                                X=Data_sample_test,\n",
    "                                y=target_sample_test, \n",
    "                                cv=cv_method_ttest, \n",
    "                                n_jobs=-2,\n",
    "                                scoring='roc_auc')\n",
    "cv_results_DT.mean()"
   ]
  },
  {
   "cell_type": "markdown",
   "metadata": {},
   "source": [
    "<font size=\"4\" color='black'>Running the following (paired) t-tests </font>"
   ]
  },
  {
   "cell_type": "code",
   "execution_count": 60,
   "metadata": {},
   "outputs": [
    {
     "name": "stdout",
     "output_type": "stream",
     "text": [
      "Ttest_relResult(statistic=-1.6803308160857, pvalue=0.12719445836247698)\n",
      "Ttest_relResult(statistic=3.4442437820897296, pvalue=0.007341137027041807)\n",
      "Ttest_relResult(statistic=0.5990467520785556, pvalue=0.563914308566364)\n"
     ]
    }
   ],
   "source": [
    "print(stats.ttest_rel(cv_results_KNN, cv_results_NB))\n",
    "print(stats.ttest_rel(cv_results_DT, cv_results_KNN))\n",
    "print(stats.ttest_rel(cv_results_DT, cv_results_NB))"
   ]
  },
  {
   "cell_type": "markdown",
   "metadata": {},
   "source": [
    "KNN is statistically the best model in this competition (in terms of AUC) when compared on the test data."
   ]
  },
  {
   "cell_type": "markdown",
   "metadata": {},
   "source": [
    "Now, we will consider the following metrics to evaluate models based on the test set:"
   ]
  },
  {
   "cell_type": "markdown",
   "metadata": {},
   "source": [
    "<ol>\n",
    "    <li>Accuracy</li>\n",
    "    <li>Precision</li>\n",
    "    <li>Recall</li>\n",
    "    <li>F1 Score (the harmonic average of precision and recall)</li>\n",
    "    <li>Confusion Matrix</li>\n",
    "    \n",
    "</ol>"
   ]
  },
  {
   "cell_type": "code",
   "execution_count": 61,
   "metadata": {},
   "outputs": [],
   "source": [
    "pred_KNN = gs_pipe_KNN.predict(Data_sample_test)\n",
    "Data_test_transformed = PowerTransformer().fit_transform(Data_sample_test)\n",
    "pred_NB = gs_pipe_NB.predict(Data_test_transformed)\n",
    "pred_DT = gs_pipe_DT2.predict(Data_sample_test)"
   ]
  },
  {
   "cell_type": "code",
   "execution_count": 62,
   "metadata": {
    "scrolled": false
   },
   "outputs": [
    {
     "name": "stdout",
     "output_type": "stream",
     "text": [
      "\n",
      "Classification report for K-Nearest Neighbor\n",
      "              precision    recall  f1-score   support\n",
      "\n",
      "           0       0.89      1.00      0.94      1101\n",
      "           1       0.00      0.00      0.00       135\n",
      "\n",
      "    accuracy                           0.89      1236\n",
      "   macro avg       0.45      0.50      0.47      1236\n",
      "weighted avg       0.79      0.89      0.84      1236\n",
      "\n",
      "\n",
      "Classification report for Naive Bayes\n",
      "              precision    recall  f1-score   support\n",
      "\n",
      "           0       0.91      0.98      0.94      1101\n",
      "           1       0.58      0.23      0.33       135\n",
      "\n",
      "    accuracy                           0.90      1236\n",
      "   macro avg       0.75      0.60      0.64      1236\n",
      "weighted avg       0.88      0.90      0.88      1236\n",
      "\n",
      "\n",
      "Classification report for Decision Tree\n",
      "              precision    recall  f1-score   support\n",
      "\n",
      "           0       0.92      0.97      0.94      1101\n",
      "           1       0.56      0.28      0.37       135\n",
      "\n",
      "    accuracy                           0.90      1236\n",
      "   macro avg       0.74      0.63      0.66      1236\n",
      "weighted avg       0.88      0.90      0.88      1236\n",
      "\n"
     ]
    }
   ],
   "source": [
    "print(\"\\nClassification report for K-Nearest Neighbor\") \n",
    "print(metrics.classification_report(target_sample_test, pred_KNN))\n",
    "print(\"\\nClassification report for Naive Bayes\") \n",
    "print(metrics.classification_report(target_sample_test, pred_NB))\n",
    "print(\"\\nClassification report for Decision Tree\") \n",
    "print(metrics.classification_report(target_sample_test, pred_DT))"
   ]
  },
  {
   "cell_type": "markdown",
   "metadata": {},
   "source": [
    "The confusion matrices are given below."
   ]
  },
  {
   "cell_type": "code",
   "execution_count": 63,
   "metadata": {},
   "outputs": [
    {
     "name": "stdout",
     "output_type": "stream",
     "text": [
      "\n",
      "Confusion matrix for K-Nearest Neighbor\n",
      "[[1101    0]\n",
      " [ 135    0]]\n",
      "\n",
      "Confusion matrix for Naive Bayes\n",
      "[[1079   22]\n",
      " [ 104   31]]\n",
      "\n",
      "Confusion matrix for Decision Tree\n",
      "[[1071   30]\n",
      " [  97   38]]\n"
     ]
    }
   ],
   "source": [
    "\n",
    "print(\"\\nConfusion matrix for K-Nearest Neighbor\") \n",
    "print(metrics.confusion_matrix(target_sample_test, pred_KNN))\n",
    "print(\"\\nConfusion matrix for Naive Bayes\") \n",
    "print(metrics.confusion_matrix(target_sample_test, pred_NB))\n",
    "print(\"\\nConfusion matrix for Decision Tree\") \n",
    "print(metrics.confusion_matrix(target_sample_test, pred_DT))"
   ]
  },
  {
   "cell_type": "markdown",
   "metadata": {},
   "source": [
    "Suppose we are bank product sales and we would like to predict if the client will subscribe a term deposit. According to the result, Decision Tree would be the best performer since it produces the highest precision-recall score. The confusion matrices are in line with the classification reports. This is in contrast to our finding that K-Nearest Neighbor is statistically the best performer when it comes to the AUC metric."
   ]
  },
  {
   "cell_type": "markdown",
   "metadata": {},
   "source": [
    "<font size=\"6\" color='black'>Limitations</font><a id=\"7\"></a> "
   ]
  },
  {
   "cell_type": "markdown",
   "metadata": {},
   "source": [
    "<ol>\n",
    "    <li>Although we get the best performer by Decision Tree, the one-hot encoding should not be fit to the decision tree model results.</li>\n",
    "    <li>It is obvious that the size of target_sample_test is too small，as a result, we get the precision score for positive of  K-Nearest Neighbor which is 0.</li>\n",
    "    <li>The decision tree cost about 30 seconds to compute which takes a lot of time and decision tree algorithm is inadequate for applying regression and predicting continuous values. In the dataset, we have \"age\" and \"duration\" two continuous features which will result in deviations. </li>\n",
    "</ol>"
   ]
  },
  {
   "cell_type": "markdown",
   "metadata": {},
   "source": [
    "<font size=\"6\" color='black'>Summary</font><a id=\"8\"></a> "
   ]
  },
  {
   "cell_type": "markdown",
   "metadata": {},
   "source": [
    "In this course project, we focus on three K-Nearest Neighbor, Naive Bayes and Decision Tree as their abilities for the classification of new objects. Bank Marketing Data Set, which is related to direct marketing campaigns (phone calls) of a Portuguese banking institution. Our goal is to detect if the client will subscribe to a term deposit.\n",
    "On the basis of the random forest importance, we get top 10 important features which are 'age', 'duration', 'campaign', 'pdays_group_no_contacted','housing', 'poutcome_success', 'previous', 'month_jun','day_of_week_tue' and 'education_university.degree', and therefore, the Bank teller can do a basic prediction whether this client will subscribe a term deposit or not, as a result, efficiency can be increased.\n",
    "\n",
    "Moreover, according to the evaluate models, decision tree has the best recall value. The recall (also known as sensitivity) is the fraction of the total amount of relevant instances that were actually retrieved. The negative recall value is about 0.96 which is really good. But positive value is about 0.34  which is really bad. When we do the feather prediction, we need to pay more attention to the positive result.\n",
    "\n",
    "Therefore, the decision tree has the best prediction result but still far from the actual results. Bank product sales should make the final decision based on customer decision.\n",
    "\n",
    "\n"
   ]
  },
  {
   "cell_type": "markdown",
   "metadata": {},
   "source": [
    "<font size=\"6\" color='black'>References</font><a id=\"8\"></a> "
   ]
  },
  {
   "cell_type": "markdown",
   "metadata": {},
   "source": [
    "* Archive.ics.uci.edu. 2020. UCI Machine Learning Repository: Bank Marketing Data Set. [online] Available at: <https://archive.ics.uci.edu/ml/datasets/Bank+Marketing> [Accessed 26 May 2020]."
   ]
  }
 ],
 "metadata": {
  "kernelspec": {
   "display_name": "Python 3",
   "language": "python",
   "name": "python3"
  },
  "language_info": {
   "codemirror_mode": {
    "name": "ipython",
    "version": 3
   },
   "file_extension": ".py",
   "mimetype": "text/x-python",
   "name": "python",
   "nbconvert_exporter": "python",
   "pygments_lexer": "ipython3",
   "version": "3.7.3"
  }
 },
 "nbformat": 4,
 "nbformat_minor": 2
}
